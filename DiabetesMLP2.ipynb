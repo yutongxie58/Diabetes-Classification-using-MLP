{
  "nbformat": 4,
  "nbformat_minor": 0,
  "metadata": {
    "colab": {
      "provenance": [],
      "authorship_tag": "ABX9TyPX4/CD5SxFVrdVqFpULiDH",
      "include_colab_link": true
    },
    "kernelspec": {
      "name": "python3",
      "display_name": "Python 3"
    },
    "language_info": {
      "name": "python"
    }
  },
  "cells": [
    {
      "cell_type": "markdown",
      "metadata": {
        "id": "view-in-github",
        "colab_type": "text"
      },
      "source": [
        "<a href=\"https://colab.research.google.com/github/yutongxie58/Diabetes_Classification_using_MLP/blob/main/DiabetesMLP2.ipynb\" target=\"_parent\"><img src=\"https://colab.research.google.com/assets/colab-badge.svg\" alt=\"Open In Colab\"/></a>"
      ]
    },
    {
      "cell_type": "markdown",
      "source": [
        "# Keras TF - Code Along Diabetes Classification Project\n",
        "\n",
        "We will explore a diabetes classification task with Keras API for TF 2.0"
      ],
      "metadata": {
        "id": "_NQvbeSuFjrq"
      }
    },
    {
      "cell_type": "markdown",
      "source": [
        "## The Data\n",
        "\n",
        "We will be using data from a Kaggle data set:\n",
        "\n",
        "https://www.kaggle.com/datasets/mathchi/diabetes-data-set\n",
        "\n",
        "#### Feature Columns\n",
        "    \n",
        "* Pregnancies: Number of times pregnant\n",
        "* Glucose: Plasma glucose concentration a 2 hours in an oral glucose tolerance test\n",
        "* BloodPressure: Diastolic blood pressure (mm Hg)\n",
        "* SkinThickness: Triceps skin fold thickness (mm)\n",
        "* Insulin: 2-Hour serum insulin (mu U/ml)\n",
        "* BMI: Body mass index (weight in kg/(height in m)^2)\n",
        "* DiabetesPedigreeFunction: Diabetes pedigree function\n",
        "* Age: Age (years)\n",
        "* Outcome: Class variable (0 or 1)\n",
        "\n",
        "#### Summary Statistics\n",
        "\n",
        "* Number of Instances: 768\n",
        "* Number of Attributes: 8 plus class\n",
        "* Missing Attribute Values: Yes\n",
        "* Class Distribution: (class value 1 is interpreted as \"tested positive for\n",
        "diabetes\")"
      ],
      "metadata": {
        "id": "UcqiXm4NFqqA"
      }
    },
    {
      "cell_type": "code",
      "source": [
        "# !pip install skompiler"
      ],
      "metadata": {
        "id": "BxOHCszVCM5o"
      },
      "execution_count": null,
      "outputs": []
    },
    {
      "cell_type": "code",
      "execution_count": null,
      "metadata": {
        "id": "4uF4RfC3BryR"
      },
      "outputs": [],
      "source": [
        "# Libraries\n",
        "import numpy as np\n",
        "import pandas as pd\n",
        "import statsmodels.api as sm\n",
        "import statsmodels.formula.api as smf\n",
        "import seaborn as sns\n",
        "import matplotlib.pyplot as plt\n",
        "from sklearn.preprocessing import scale\n",
        "from sklearn.model_selection import train_test_split, GridSearchCV, cross_val_score, cross_val_predict\n",
        "from sklearn.preprocessing import MinMaxScaler, LabelEncoder, StandardScaler, RobustScaler\n",
        "from tensorflow.keras.callbacks import EarlyStopping\n",
        "from tensorflow.keras.models import Sequential\n",
        "from tensorflow.keras.layers import Dense,Dropout\n",
        "from sklearn.metrics import confusion_matrix, accuracy_score, classification_report\n",
        "from sklearn.metrics import roc_auc_score,roc_curve\n",
        "# from sklearn.neighbors import KNeighborsClassifier\n",
        "# from sklearn import tree\n",
        "# from sklearn.ensemble import RandomForestClassifier\n",
        "# from sklearn.ensemble import GradientBoostingClassifier\n",
        "# from xgboost import XGBClassifier\n",
        "# from lightgbm import LGBMClassifier\n",
        "# from sklearn.tree import DecisionTreeClassifier\n",
        "# from sklearn.metrics import mean_squared_error\n",
        "# from skompiler import skompile\n",
        "from warnings import filterwarnings\n",
        "filterwarnings('ignore')"
      ]
    },
    {
      "cell_type": "markdown",
      "source": [
        "# DATASET"
      ],
      "metadata": {
        "id": "ZDwDmj6JDhXo"
      }
    },
    {
      "cell_type": "code",
      "source": [
        "pd.set_option('display.max_columns', None)\n",
        "pd.set_option('display.max_rows', None)\n",
        "pd.set_option('display.float_format', lambda x: '%.3f' % x)\n",
        "pd.set_option('display.width', 500)\n",
        "\n",
        "diabetes = pd.read_csv(\"/content/diabetes.csv\")\n",
        "df = diabetes.copy()\n",
        "df.head()"
      ],
      "metadata": {
        "colab": {
          "base_uri": "https://localhost:8080/",
          "height": 206
        },
        "id": "K7eDB6tqCCwb",
        "outputId": "e5b84aff-c41c-44f5-82d0-2ed87a28bdf5"
      },
      "execution_count": null,
      "outputs": [
        {
          "output_type": "execute_result",
          "data": {
            "text/plain": [
              "   Pregnancies  Glucose  BloodPressure  SkinThickness  Insulin    BMI  DiabetesPedigreeFunction  Age  Outcome\n",
              "0            6      148             72             35        0 33.600                     0.627   50        1\n",
              "1            1       85             66             29        0 26.600                     0.351   31        0\n",
              "2            8      183             64              0        0 23.300                     0.672   32        1\n",
              "3            1       89             66             23       94 28.100                     0.167   21        0\n",
              "4            0      137             40             35      168 43.100                     2.288   33        1"
            ],
            "text/html": [
              "\n",
              "  <div id=\"df-abcd775d-48ba-46f1-be6f-4f08b61b9292\">\n",
              "    <div class=\"colab-df-container\">\n",
              "      <div>\n",
              "<style scoped>\n",
              "    .dataframe tbody tr th:only-of-type {\n",
              "        vertical-align: middle;\n",
              "    }\n",
              "\n",
              "    .dataframe tbody tr th {\n",
              "        vertical-align: top;\n",
              "    }\n",
              "\n",
              "    .dataframe thead th {\n",
              "        text-align: right;\n",
              "    }\n",
              "</style>\n",
              "<table border=\"1\" class=\"dataframe\">\n",
              "  <thead>\n",
              "    <tr style=\"text-align: right;\">\n",
              "      <th></th>\n",
              "      <th>Pregnancies</th>\n",
              "      <th>Glucose</th>\n",
              "      <th>BloodPressure</th>\n",
              "      <th>SkinThickness</th>\n",
              "      <th>Insulin</th>\n",
              "      <th>BMI</th>\n",
              "      <th>DiabetesPedigreeFunction</th>\n",
              "      <th>Age</th>\n",
              "      <th>Outcome</th>\n",
              "    </tr>\n",
              "  </thead>\n",
              "  <tbody>\n",
              "    <tr>\n",
              "      <th>0</th>\n",
              "      <td>6</td>\n",
              "      <td>148</td>\n",
              "      <td>72</td>\n",
              "      <td>35</td>\n",
              "      <td>0</td>\n",
              "      <td>33.600</td>\n",
              "      <td>0.627</td>\n",
              "      <td>50</td>\n",
              "      <td>1</td>\n",
              "    </tr>\n",
              "    <tr>\n",
              "      <th>1</th>\n",
              "      <td>1</td>\n",
              "      <td>85</td>\n",
              "      <td>66</td>\n",
              "      <td>29</td>\n",
              "      <td>0</td>\n",
              "      <td>26.600</td>\n",
              "      <td>0.351</td>\n",
              "      <td>31</td>\n",
              "      <td>0</td>\n",
              "    </tr>\n",
              "    <tr>\n",
              "      <th>2</th>\n",
              "      <td>8</td>\n",
              "      <td>183</td>\n",
              "      <td>64</td>\n",
              "      <td>0</td>\n",
              "      <td>0</td>\n",
              "      <td>23.300</td>\n",
              "      <td>0.672</td>\n",
              "      <td>32</td>\n",
              "      <td>1</td>\n",
              "    </tr>\n",
              "    <tr>\n",
              "      <th>3</th>\n",
              "      <td>1</td>\n",
              "      <td>89</td>\n",
              "      <td>66</td>\n",
              "      <td>23</td>\n",
              "      <td>94</td>\n",
              "      <td>28.100</td>\n",
              "      <td>0.167</td>\n",
              "      <td>21</td>\n",
              "      <td>0</td>\n",
              "    </tr>\n",
              "    <tr>\n",
              "      <th>4</th>\n",
              "      <td>0</td>\n",
              "      <td>137</td>\n",
              "      <td>40</td>\n",
              "      <td>35</td>\n",
              "      <td>168</td>\n",
              "      <td>43.100</td>\n",
              "      <td>2.288</td>\n",
              "      <td>33</td>\n",
              "      <td>1</td>\n",
              "    </tr>\n",
              "  </tbody>\n",
              "</table>\n",
              "</div>\n",
              "      <button class=\"colab-df-convert\" onclick=\"convertToInteractive('df-abcd775d-48ba-46f1-be6f-4f08b61b9292')\"\n",
              "              title=\"Convert this dataframe to an interactive table.\"\n",
              "              style=\"display:none;\">\n",
              "        \n",
              "  <svg xmlns=\"http://www.w3.org/2000/svg\" height=\"24px\"viewBox=\"0 0 24 24\"\n",
              "       width=\"24px\">\n",
              "    <path d=\"M0 0h24v24H0V0z\" fill=\"none\"/>\n",
              "    <path d=\"M18.56 5.44l.94 2.06.94-2.06 2.06-.94-2.06-.94-.94-2.06-.94 2.06-2.06.94zm-11 1L8.5 8.5l.94-2.06 2.06-.94-2.06-.94L8.5 2.5l-.94 2.06-2.06.94zm10 10l.94 2.06.94-2.06 2.06-.94-2.06-.94-.94-2.06-.94 2.06-2.06.94z\"/><path d=\"M17.41 7.96l-1.37-1.37c-.4-.4-.92-.59-1.43-.59-.52 0-1.04.2-1.43.59L10.3 9.45l-7.72 7.72c-.78.78-.78 2.05 0 2.83L4 21.41c.39.39.9.59 1.41.59.51 0 1.02-.2 1.41-.59l7.78-7.78 2.81-2.81c.8-.78.8-2.07 0-2.86zM5.41 20L4 18.59l7.72-7.72 1.47 1.35L5.41 20z\"/>\n",
              "  </svg>\n",
              "      </button>\n",
              "      \n",
              "  <style>\n",
              "    .colab-df-container {\n",
              "      display:flex;\n",
              "      flex-wrap:wrap;\n",
              "      gap: 12px;\n",
              "    }\n",
              "\n",
              "    .colab-df-convert {\n",
              "      background-color: #E8F0FE;\n",
              "      border: none;\n",
              "      border-radius: 50%;\n",
              "      cursor: pointer;\n",
              "      display: none;\n",
              "      fill: #1967D2;\n",
              "      height: 32px;\n",
              "      padding: 0 0 0 0;\n",
              "      width: 32px;\n",
              "    }\n",
              "\n",
              "    .colab-df-convert:hover {\n",
              "      background-color: #E2EBFA;\n",
              "      box-shadow: 0px 1px 2px rgba(60, 64, 67, 0.3), 0px 1px 3px 1px rgba(60, 64, 67, 0.15);\n",
              "      fill: #174EA6;\n",
              "    }\n",
              "\n",
              "    [theme=dark] .colab-df-convert {\n",
              "      background-color: #3B4455;\n",
              "      fill: #D2E3FC;\n",
              "    }\n",
              "\n",
              "    [theme=dark] .colab-df-convert:hover {\n",
              "      background-color: #434B5C;\n",
              "      box-shadow: 0px 1px 3px 1px rgba(0, 0, 0, 0.15);\n",
              "      filter: drop-shadow(0px 1px 2px rgba(0, 0, 0, 0.3));\n",
              "      fill: #FFFFFF;\n",
              "    }\n",
              "  </style>\n",
              "\n",
              "      <script>\n",
              "        const buttonEl =\n",
              "          document.querySelector('#df-abcd775d-48ba-46f1-be6f-4f08b61b9292 button.colab-df-convert');\n",
              "        buttonEl.style.display =\n",
              "          google.colab.kernel.accessAllowed ? 'block' : 'none';\n",
              "\n",
              "        async function convertToInteractive(key) {\n",
              "          const element = document.querySelector('#df-abcd775d-48ba-46f1-be6f-4f08b61b9292');\n",
              "          const dataTable =\n",
              "            await google.colab.kernel.invokeFunction('convertToInteractive',\n",
              "                                                     [key], {});\n",
              "          if (!dataTable) return;\n",
              "\n",
              "          const docLinkHtml = 'Like what you see? Visit the ' +\n",
              "            '<a target=\"_blank\" href=https://colab.research.google.com/notebooks/data_table.ipynb>data table notebook</a>'\n",
              "            + ' to learn more about interactive tables.';\n",
              "          element.innerHTML = '';\n",
              "          dataTable['output_type'] = 'display_data';\n",
              "          await google.colab.output.renderOutput(dataTable, element);\n",
              "          const docLink = document.createElement('div');\n",
              "          docLink.innerHTML = docLinkHtml;\n",
              "          element.appendChild(docLink);\n",
              "        }\n",
              "      </script>\n",
              "    </div>\n",
              "  </div>\n",
              "  "
            ]
          },
          "metadata": {},
          "execution_count": 2
        }
      ]
    },
    {
      "cell_type": "code",
      "source": [
        "def check_df(dataframe, head = 5):\n",
        "    print(\"############## Shape ##############\")\n",
        "    print(dataframe.shape)\n",
        "    print(\"############## Types ##############\")\n",
        "    print(dataframe.dtypes)\n",
        "    print(\"############## Head ##############\")\n",
        "    print(dataframe.head(head))\n",
        "    print(\"############## Tail ##############\")\n",
        "    print(dataframe.tail(head))\n",
        "    print(\"############## NA ##############\")\n",
        "    print(dataframe.isnull().sum())\n",
        "    print(\"############## Quantiles ##############\")\n",
        "    print(dataframe.describe([0, 0.05, 0.50, 0.95, 0.99, 1]).T)\n",
        "\n",
        "check_df(df)"
      ],
      "metadata": {
        "colab": {
          "base_uri": "https://localhost:8080/"
        },
        "id": "920LWjZQCUBQ",
        "outputId": "6f909766-b493-44c4-cc8b-c0e7f1dc0004"
      },
      "execution_count": null,
      "outputs": [
        {
          "output_type": "stream",
          "name": "stdout",
          "text": [
            "############## Shape ##############\n",
            "(768, 9)\n",
            "############## Types ##############\n",
            "Pregnancies                   int64\n",
            "Glucose                       int64\n",
            "BloodPressure                 int64\n",
            "SkinThickness                 int64\n",
            "Insulin                       int64\n",
            "BMI                         float64\n",
            "DiabetesPedigreeFunction    float64\n",
            "Age                           int64\n",
            "Outcome                       int64\n",
            "dtype: object\n",
            "############## Head ##############\n",
            "   Pregnancies  Glucose  BloodPressure  SkinThickness  Insulin    BMI  DiabetesPedigreeFunction  Age  Outcome\n",
            "0            6      148             72             35        0 33.600                     0.627   50        1\n",
            "1            1       85             66             29        0 26.600                     0.351   31        0\n",
            "2            8      183             64              0        0 23.300                     0.672   32        1\n",
            "3            1       89             66             23       94 28.100                     0.167   21        0\n",
            "4            0      137             40             35      168 43.100                     2.288   33        1\n",
            "############## Tail ##############\n",
            "     Pregnancies  Glucose  BloodPressure  SkinThickness  Insulin    BMI  DiabetesPedigreeFunction  Age  Outcome\n",
            "763           10      101             76             48      180 32.900                     0.171   63        0\n",
            "764            2      122             70             27        0 36.800                     0.340   27        0\n",
            "765            5      121             72             23      112 26.200                     0.245   30        0\n",
            "766            1      126             60              0        0 30.100                     0.349   47        1\n",
            "767            1       93             70             31        0 30.400                     0.315   23        0\n",
            "############## NA ##############\n",
            "Pregnancies                 0\n",
            "Glucose                     0\n",
            "BloodPressure               0\n",
            "SkinThickness               0\n",
            "Insulin                     0\n",
            "BMI                         0\n",
            "DiabetesPedigreeFunction    0\n",
            "Age                         0\n",
            "Outcome                     0\n",
            "dtype: int64\n",
            "############## Quantiles ##############\n",
            "                           count    mean     std    min     0%     5%     50%     95%     99%    100%     max\n",
            "Pregnancies              768.000   3.845   3.370  0.000  0.000  0.000   3.000  10.000  13.000  17.000  17.000\n",
            "Glucose                  768.000 120.895  31.973  0.000  0.000 79.000 117.000 181.000 196.000 199.000 199.000\n",
            "BloodPressure            768.000  69.105  19.356  0.000  0.000 38.700  72.000  90.000 106.000 122.000 122.000\n",
            "SkinThickness            768.000  20.536  15.952  0.000  0.000  0.000  23.000  44.000  51.330  99.000  99.000\n",
            "Insulin                  768.000  79.799 115.244  0.000  0.000  0.000  30.500 293.000 519.900 846.000 846.000\n",
            "BMI                      768.000  31.993   7.884  0.000  0.000 21.800  32.000  44.395  50.759  67.100  67.100\n",
            "DiabetesPedigreeFunction 768.000   0.472   0.331  0.078  0.078  0.140   0.372   1.133   1.698   2.420   2.420\n",
            "Age                      768.000  33.241  11.760 21.000 21.000 21.000  29.000  58.000  67.000  81.000  81.000\n",
            "Outcome                  768.000   0.349   0.477  0.000  0.000  0.000   0.000   1.000   1.000   1.000   1.000\n"
          ]
        }
      ]
    },
    {
      "cell_type": "markdown",
      "source": [
        "# DATA PRE-PROCESSING"
      ],
      "metadata": {
        "id": "qikZID8pDoe0"
      }
    },
    {
      "cell_type": "code",
      "source": [
        "# Let's make variables's names smaller\n",
        "\n",
        "df.columns = [col.lower() for col in df.columns]\n",
        "df.head()"
      ],
      "metadata": {
        "colab": {
          "base_uri": "https://localhost:8080/",
          "height": 206
        },
        "id": "CceMq_XZCft3",
        "outputId": "8a3da7cf-accf-4efe-b491-2331502fad5c"
      },
      "execution_count": null,
      "outputs": [
        {
          "output_type": "execute_result",
          "data": {
            "text/plain": [
              "   pregnancies  glucose  bloodpressure  skinthickness  insulin    bmi  diabetespedigreefunction  age  outcome\n",
              "0            6      148             72             35        0 33.600                     0.627   50        1\n",
              "1            1       85             66             29        0 26.600                     0.351   31        0\n",
              "2            8      183             64              0        0 23.300                     0.672   32        1\n",
              "3            1       89             66             23       94 28.100                     0.167   21        0\n",
              "4            0      137             40             35      168 43.100                     2.288   33        1"
            ],
            "text/html": [
              "\n",
              "  <div id=\"df-e0a6309b-40c1-433e-83a9-8de6ea7de4e4\">\n",
              "    <div class=\"colab-df-container\">\n",
              "      <div>\n",
              "<style scoped>\n",
              "    .dataframe tbody tr th:only-of-type {\n",
              "        vertical-align: middle;\n",
              "    }\n",
              "\n",
              "    .dataframe tbody tr th {\n",
              "        vertical-align: top;\n",
              "    }\n",
              "\n",
              "    .dataframe thead th {\n",
              "        text-align: right;\n",
              "    }\n",
              "</style>\n",
              "<table border=\"1\" class=\"dataframe\">\n",
              "  <thead>\n",
              "    <tr style=\"text-align: right;\">\n",
              "      <th></th>\n",
              "      <th>pregnancies</th>\n",
              "      <th>glucose</th>\n",
              "      <th>bloodpressure</th>\n",
              "      <th>skinthickness</th>\n",
              "      <th>insulin</th>\n",
              "      <th>bmi</th>\n",
              "      <th>diabetespedigreefunction</th>\n",
              "      <th>age</th>\n",
              "      <th>outcome</th>\n",
              "    </tr>\n",
              "  </thead>\n",
              "  <tbody>\n",
              "    <tr>\n",
              "      <th>0</th>\n",
              "      <td>6</td>\n",
              "      <td>148</td>\n",
              "      <td>72</td>\n",
              "      <td>35</td>\n",
              "      <td>0</td>\n",
              "      <td>33.600</td>\n",
              "      <td>0.627</td>\n",
              "      <td>50</td>\n",
              "      <td>1</td>\n",
              "    </tr>\n",
              "    <tr>\n",
              "      <th>1</th>\n",
              "      <td>1</td>\n",
              "      <td>85</td>\n",
              "      <td>66</td>\n",
              "      <td>29</td>\n",
              "      <td>0</td>\n",
              "      <td>26.600</td>\n",
              "      <td>0.351</td>\n",
              "      <td>31</td>\n",
              "      <td>0</td>\n",
              "    </tr>\n",
              "    <tr>\n",
              "      <th>2</th>\n",
              "      <td>8</td>\n",
              "      <td>183</td>\n",
              "      <td>64</td>\n",
              "      <td>0</td>\n",
              "      <td>0</td>\n",
              "      <td>23.300</td>\n",
              "      <td>0.672</td>\n",
              "      <td>32</td>\n",
              "      <td>1</td>\n",
              "    </tr>\n",
              "    <tr>\n",
              "      <th>3</th>\n",
              "      <td>1</td>\n",
              "      <td>89</td>\n",
              "      <td>66</td>\n",
              "      <td>23</td>\n",
              "      <td>94</td>\n",
              "      <td>28.100</td>\n",
              "      <td>0.167</td>\n",
              "      <td>21</td>\n",
              "      <td>0</td>\n",
              "    </tr>\n",
              "    <tr>\n",
              "      <th>4</th>\n",
              "      <td>0</td>\n",
              "      <td>137</td>\n",
              "      <td>40</td>\n",
              "      <td>35</td>\n",
              "      <td>168</td>\n",
              "      <td>43.100</td>\n",
              "      <td>2.288</td>\n",
              "      <td>33</td>\n",
              "      <td>1</td>\n",
              "    </tr>\n",
              "  </tbody>\n",
              "</table>\n",
              "</div>\n",
              "      <button class=\"colab-df-convert\" onclick=\"convertToInteractive('df-e0a6309b-40c1-433e-83a9-8de6ea7de4e4')\"\n",
              "              title=\"Convert this dataframe to an interactive table.\"\n",
              "              style=\"display:none;\">\n",
              "        \n",
              "  <svg xmlns=\"http://www.w3.org/2000/svg\" height=\"24px\"viewBox=\"0 0 24 24\"\n",
              "       width=\"24px\">\n",
              "    <path d=\"M0 0h24v24H0V0z\" fill=\"none\"/>\n",
              "    <path d=\"M18.56 5.44l.94 2.06.94-2.06 2.06-.94-2.06-.94-.94-2.06-.94 2.06-2.06.94zm-11 1L8.5 8.5l.94-2.06 2.06-.94-2.06-.94L8.5 2.5l-.94 2.06-2.06.94zm10 10l.94 2.06.94-2.06 2.06-.94-2.06-.94-.94-2.06-.94 2.06-2.06.94z\"/><path d=\"M17.41 7.96l-1.37-1.37c-.4-.4-.92-.59-1.43-.59-.52 0-1.04.2-1.43.59L10.3 9.45l-7.72 7.72c-.78.78-.78 2.05 0 2.83L4 21.41c.39.39.9.59 1.41.59.51 0 1.02-.2 1.41-.59l7.78-7.78 2.81-2.81c.8-.78.8-2.07 0-2.86zM5.41 20L4 18.59l7.72-7.72 1.47 1.35L5.41 20z\"/>\n",
              "  </svg>\n",
              "      </button>\n",
              "      \n",
              "  <style>\n",
              "    .colab-df-container {\n",
              "      display:flex;\n",
              "      flex-wrap:wrap;\n",
              "      gap: 12px;\n",
              "    }\n",
              "\n",
              "    .colab-df-convert {\n",
              "      background-color: #E8F0FE;\n",
              "      border: none;\n",
              "      border-radius: 50%;\n",
              "      cursor: pointer;\n",
              "      display: none;\n",
              "      fill: #1967D2;\n",
              "      height: 32px;\n",
              "      padding: 0 0 0 0;\n",
              "      width: 32px;\n",
              "    }\n",
              "\n",
              "    .colab-df-convert:hover {\n",
              "      background-color: #E2EBFA;\n",
              "      box-shadow: 0px 1px 2px rgba(60, 64, 67, 0.3), 0px 1px 3px 1px rgba(60, 64, 67, 0.15);\n",
              "      fill: #174EA6;\n",
              "    }\n",
              "\n",
              "    [theme=dark] .colab-df-convert {\n",
              "      background-color: #3B4455;\n",
              "      fill: #D2E3FC;\n",
              "    }\n",
              "\n",
              "    [theme=dark] .colab-df-convert:hover {\n",
              "      background-color: #434B5C;\n",
              "      box-shadow: 0px 1px 3px 1px rgba(0, 0, 0, 0.15);\n",
              "      filter: drop-shadow(0px 1px 2px rgba(0, 0, 0, 0.3));\n",
              "      fill: #FFFFFF;\n",
              "    }\n",
              "  </style>\n",
              "\n",
              "      <script>\n",
              "        const buttonEl =\n",
              "          document.querySelector('#df-e0a6309b-40c1-433e-83a9-8de6ea7de4e4 button.colab-df-convert');\n",
              "        buttonEl.style.display =\n",
              "          google.colab.kernel.accessAllowed ? 'block' : 'none';\n",
              "\n",
              "        async function convertToInteractive(key) {\n",
              "          const element = document.querySelector('#df-e0a6309b-40c1-433e-83a9-8de6ea7de4e4');\n",
              "          const dataTable =\n",
              "            await google.colab.kernel.invokeFunction('convertToInteractive',\n",
              "                                                     [key], {});\n",
              "          if (!dataTable) return;\n",
              "\n",
              "          const docLinkHtml = 'Like what you see? Visit the ' +\n",
              "            '<a target=\"_blank\" href=https://colab.research.google.com/notebooks/data_table.ipynb>data table notebook</a>'\n",
              "            + ' to learn more about interactive tables.';\n",
              "          element.innerHTML = '';\n",
              "          dataTable['output_type'] = 'display_data';\n",
              "          await google.colab.output.renderOutput(dataTable, element);\n",
              "          const docLink = document.createElement('div');\n",
              "          docLink.innerHTML = docLinkHtml;\n",
              "          element.appendChild(docLink);\n",
              "        }\n",
              "      </script>\n",
              "    </div>\n",
              "  </div>\n",
              "  "
            ]
          },
          "metadata": {},
          "execution_count": 4
        }
      ]
    },
    {
      "cell_type": "code",
      "source": [
        "# Checking Outliers\n",
        "\n",
        "f, ax = plt.subplots(figsize=(20,20))\n",
        "fig = sns.boxplot(data=df, orient=\"h\")"
      ],
      "metadata": {
        "colab": {
          "base_uri": "https://localhost:8080/",
          "height": 1000
        },
        "id": "34bdNI2RCkUp",
        "outputId": "2274e0e4-43bc-42ad-8883-5a01e6bc5630"
      },
      "execution_count": null,
      "outputs": [
        {
          "output_type": "display_data",
          "data": {
            "text/plain": [
              "<Figure size 2000x2000 with 1 Axes>"
            ],
            "image/png": "[encoded data removed]"
          },
          "metadata": {}
        }
      ]
    },
    {
      "cell_type": "code",
      "source": [
        "sns.countplot(x='outcome',data=df)"
      ],
      "metadata": {
        "colab": {
          "base_uri": "https://localhost:8080/",
          "height": 467
        },
        "id": "KWy042dJCnXj",
        "outputId": "daae4385-bc0c-40f7-e426-6a50f3bc26ec"
      },
      "execution_count": null,
      "outputs": [
        {
          "output_type": "execute_result",
          "data": {
            "text/plain": [
              "<Axes: xlabel='outcome', ylabel='count'>"
            ]
          },
          "metadata": {},
          "execution_count": 7
        },
        {
          "output_type": "display_data",
          "data": {
            "text/plain": [
              "<Figure size 640x480 with 1 Axes>"
            ],
            "image/png": "[encoded data removed]"
          },
          "metadata": {}
        }
      ]
    },
    {
      "cell_type": "code",
      "source": [
        "# let's see the corr graphs of the variables\n",
        "corr = df.corr()\n",
        "\n",
        "sns.heatmap(corr,\n",
        "         xticklabels=corr.columns,\n",
        "         yticklabels=corr.columns)"
      ],
      "metadata": {
        "colab": {
          "base_uri": "https://localhost:8080/",
          "height": 617
        },
        "id": "SJpl8CBSCqgG",
        "outputId": "6255130e-9c83-4fa3-ecd4-aa9d6212d8b4"
      },
      "execution_count": null,
      "outputs": [
        {
          "output_type": "execute_result",
          "data": {
            "text/plain": [
              "<Axes: >"
            ]
          },
          "metadata": {},
          "execution_count": 8
        },
        {
          "output_type": "display_data",
          "data": {
            "text/plain": [
              "<Figure size 640x480 with 2 Axes>"
            ],
            "image/png": "[encoded data removed]"
          },
          "metadata": {}
        }
      ]
    },
    {
      "cell_type": "code",
      "source": [
        "df.corr()['outcome'][:-1].sort_values().plot(kind='bar')"
      ],
      "metadata": {
        "colab": {
          "base_uri": "https://localhost:8080/",
          "height": 612
        },
        "id": "hXh6DV_IeL-A",
        "outputId": "e3b5922a-05c5-4cee-e924-a0a20e0c84a0"
      },
      "execution_count": null,
      "outputs": [
        {
          "output_type": "execute_result",
          "data": {
            "text/plain": [
              "<Axes: >"
            ]
          },
          "metadata": {},
          "execution_count": 8
        },
        {
          "output_type": "display_data",
          "data": {
            "text/plain": [
              "<Figure size 640x480 with 1 Axes>"
            ],
            "image/png": "[encoded data removed]"
          },
          "metadata": {}
        }
      ]
    },
    {
      "cell_type": "code",
      "source": [
        "# Create histograms for all columns in the DataFrame\n",
        "df.hist()\n",
        "\n",
        "# Iterate through each subplot to set the font size for the titles\n",
        "for ax in plt.gcf().get_axes():\n",
        "    ax.set_title(ax.get_title(), fontsize=10)  # Set the font size to 8\n",
        "\n",
        "# Add tight layout for better spacing\n",
        "plt.tight_layout()\n",
        "\n",
        "# Show the plot\n",
        "plt.show()"
      ],
      "metadata": {
        "colab": {
          "base_uri": "https://localhost:8080/",
          "height": 487
        },
        "id": "3omMaYVVjBxc",
        "outputId": "779c5265-ce36-453b-ac23-5aa640531e18"
      },
      "execution_count": null,
      "outputs": [
        {
          "output_type": "display_data",
          "data": {
            "text/plain": [
              "<Figure size 640x480 with 9 Axes>"
            ],
            "image/png": "[encoded data removed]"
          },
          "metadata": {}
        }
      ]
    },
    {
      "cell_type": "code",
      "source": [
        "# Create a subplot of 3 x 3\n",
        "fig, axes = plt.subplots(3, 3, figsize=(7, 7))\n",
        "\n",
        "# Flatten the axes array for easy indexing\n",
        "axes = axes.flatten()\n",
        "\n",
        "# Plot a density plot for each variable\n",
        "for idx, col in enumerate(df.columns):\n",
        "    # Skip the 9th subplot (bottom right) since there are only 8 plots\n",
        "    if idx == 8:\n",
        "        axes[idx].set_visible(False)\n",
        "        continue\n",
        "    \n",
        "    ax = axes[idx]\n",
        "    ax.yaxis.set_ticklabels([])\n",
        "    sns.kdeplot(df.loc[df.outcome == 0][col], ls='-', color='black', label='No Diabetes', ax=ax)\n",
        "    sns.kdeplot(df.loc[df.outcome == 1][col], ls='--', color='black', label='Diabetes', ax=ax)\n",
        "    ax.set_title(col,fontsize=10)\n",
        "    # Move the legend to the upper right corner, Set the legend font size to 'small'\n",
        "    ax.legend(loc='upper right', fontsize='small')  \n",
        "# Add tight layout for better spacing\n",
        "plt.tight_layout()\n",
        "\n",
        "# Show the plot\n",
        "plt.show()"
      ],
      "metadata": {
        "colab": {
          "base_uri": "https://localhost:8080/",
          "height": 707
        },
        "id": "QYlyqRarh_FL",
        "outputId": "8c5fb297-d0f4-49c9-b8e2-45676e299005"
      },
      "execution_count": null,
      "outputs": [
        {
          "output_type": "display_data",
          "data": {
            "text/plain": [
              "<Figure size 700x700 with 9 Axes>"
            ],
            "image/png": "[encoded data removed]"
          },
          "metadata": {}
        }
      ]
    },
    {
      "cell_type": "code",
      "source": [
        "def grab_col_names(dataframe, cat_th=10, car_th=20):\n",
        "    \"\"\"\n",
        "\n",
        "   Returns the names of categorical, numeric and categorical but cardinal variables in the data set.\n",
        "   Note Categorical variables include categorical variables with numeric appearance.\n",
        "\n",
        "    Parameters\n",
        "    ------\n",
        "        dataframe: dataframe\n",
        "                Dataframe to get variable names\n",
        "        cat_th: int, optional\n",
        "                class threshold for numeric but categorical variables\n",
        "        car_th: int, optinal\n",
        "                class threshold for categorical but cardinal variables\n",
        "\n",
        "    Returns\n",
        "    ------\n",
        "        cat_cols: list\n",
        "                Categorical variable list\n",
        "        num_cols: list\n",
        "                Numeric variable list\n",
        "        cat_but_car: list\n",
        "                List of cardinal variables with categorical view\n",
        "\n",
        "    Examples\n",
        "    ------\n",
        "        import seaborn as sns\n",
        "        df = sns.load_dataset(\"iris\")\n",
        "        print(grab_col_names(df))\n",
        "\n",
        "\n",
        "    Notes\n",
        "    ------\n",
        "        cat_cols + num_cols + cat_but_car = total number of variables\n",
        "        \n",
        "        The sum of 3 lists with return equals the total number of variables: cat_cols + num_cols + cat_but_car = number of variables\n",
        "\n",
        "    \"\"\"\n",
        "\n",
        "    # cat_cols, cat_but_car\n",
        "    cat_cols = [col for col in dataframe.columns if dataframe[col].dtypes == \"O\"]\n",
        "    num_but_cat = [col for col in dataframe.columns if dataframe[col].nunique() < cat_th and\n",
        "                   dataframe[col].dtypes != \"O\"]\n",
        "    cat_but_car = [col for col in dataframe.columns if dataframe[col].nunique() > car_th and\n",
        "                   dataframe[col].dtypes == \"O\"]\n",
        "    cat_cols = cat_cols + num_but_cat\n",
        "    cat_cols = [col for col in cat_cols if col not in cat_but_car]\n",
        "\n",
        "    # num_cols\n",
        "    num_cols = [col for col in dataframe.columns if dataframe[col].dtypes != \"O\"]\n",
        "    num_cols = [col for col in num_cols if col not in num_but_cat]\n",
        "\n",
        "    print(f\"Observations: {dataframe.shape[0]}\")\n",
        "    print(f\"Variables: {dataframe.shape[1]}\")\n",
        "    print(f'cat_cols: {len(cat_cols)}')\n",
        "    print(f'num_cols: {len(num_cols)}')\n",
        "    print(f'cat_but_car: {len(cat_but_car)}')\n",
        "    print(f'num_but_cat: {len(num_but_cat)}')\n",
        "    return cat_cols, num_cols, cat_but_car\n",
        "\n",
        "cat_cols, num_cols, cat_but_car = grab_col_names(df)"
      ],
      "metadata": {
        "colab": {
          "base_uri": "https://localhost:8080/"
        },
        "id": "CtdFyCKKC8Un",
        "outputId": "1954ceae-b67a-4bcf-b154-4a6d1bd24b68"
      },
      "execution_count": null,
      "outputs": [
        {
          "output_type": "stream",
          "name": "stdout",
          "text": [
            "Observations: 768\n",
            "Variables: 9\n",
            "cat_cols: 1\n",
            "num_cols: 8\n",
            "cat_but_car: 0\n",
            "num_but_cat: 1\n"
          ]
        }
      ]
    },
    {
      "cell_type": "code",
      "source": [
        "# Outliers\n",
        "\n",
        "def outlier_thresholds(dataframe, col_name, q1=0.15, q3=0.85):\n",
        "    quartile1 = dataframe[col_name].quantile(q1)\n",
        "    quartile3 = dataframe[col_name].quantile(q3)\n",
        "    interquantile_range = quartile3 - quartile1\n",
        "    up_limit = quartile3 + interquantile_range\n",
        "    low_limit = quartile1 - 1.3 * interquantile_range\n",
        "    return low_limit, up_limit"
      ],
      "metadata": {
        "id": "RxkCzMzLDCN-"
      },
      "execution_count": null,
      "outputs": []
    },
    {
      "cell_type": "code",
      "source": [
        "def check_outlier(dataframe, col_name):\n",
        "    low_limit, up_limit = outlier_thresholds(dataframe, col_name)\n",
        "    if dataframe[(dataframe[col_name] > up_limit) | (dataframe[col_name] < low_limit)].any(axis=None):\n",
        "        return True\n",
        "    else:\n",
        "        return False"
      ],
      "metadata": {
        "id": "cBCVFvBSDGa7"
      },
      "execution_count": null,
      "outputs": []
    },
    {
      "cell_type": "code",
      "source": [
        "def grab_outliers(dataframe, col_name, index=False):\n",
        "    low, up = outlier_thresholds(dataframe, col_name)\n",
        "\n",
        "    if dataframe[((dataframe[col_name] < low) | (dataframe[col_name] > up))].shape[0] > 10:\n",
        "        print(dataframe[((dataframe[col_name] < low) | (dataframe[col_name] > up))].head())\n",
        "    else:\n",
        "        print(dataframe[((dataframe[col_name] < low) | (dataframe[col_name] > up))])\n",
        "\n",
        "    if index:\n",
        "        outlier_index = dataframe[((dataframe[col_name] < low) | (dataframe[col_name] > up))].index\n",
        "        return outlier_index\n",
        "    \n",
        "    for col in df.columns:\n",
        "        print(col, grab_outliers(df,col))"
      ],
      "metadata": {
        "id": "iAtA5uZUDIXF"
      },
      "execution_count": null,
      "outputs": []
    },
    {
      "cell_type": "code",
      "source": [
        "def replace_with_thresholds(dataframe, variable):\n",
        "        low_limit, up_limit = outlier_thresholds(dataframe, variable)\n",
        "        dataframe.loc[(dataframe[variable] < low_limit), variable] = low_limit\n",
        "        dataframe.loc[(dataframe[variable] > up_limit), variable] = up_limit\n",
        "\n",
        "for col in num_cols:\n",
        "        print(replace_with_thresholds(df, col))"
      ],
      "metadata": {
        "colab": {
          "base_uri": "https://localhost:8080/"
        },
        "id": "J5nvks-9DK1n",
        "outputId": "1f85f298-e1e7-4d8d-9fc3-847c8c7e6bfd"
      },
      "execution_count": null,
      "outputs": [
        {
          "output_type": "stream",
          "name": "stdout",
          "text": [
            "None\n",
            "None\n",
            "None\n",
            "None\n",
            "None\n",
            "None\n",
            "None\n",
            "None\n"
          ]
        }
      ]
    },
    {
      "cell_type": "code",
      "source": [
        "df.describe().T"
      ],
      "metadata": {
        "colab": {
          "base_uri": "https://localhost:8080/",
          "height": 332
        },
        "id": "n8e2nj0rDMsM",
        "outputId": "44857726-e7d8-4fd5-99b2-3b8ee1f1bfae"
      },
      "execution_count": null,
      "outputs": [
        {
          "output_type": "execute_result",
          "data": {
            "text/plain": [
              "                           count    mean    std    min    25%     50%     75%     max\n",
              "pregnancies              768.000   3.842  3.360  0.000  1.000   3.000   6.000  15.000\n",
              "glucose                  768.000 120.937 31.816  6.500 99.000 117.000 140.250 199.000\n",
              "bloodpressure            768.000  70.188 15.673 24.200 62.000  72.000  80.000 110.000\n",
              "skinthickness            768.000  20.504 15.817  0.000  0.000  23.000  32.000  74.000\n",
              "insulin                  768.000  75.132 97.656  0.000  0.000  30.500 127.250 359.800\n",
              "bmi                      768.000  32.047  7.454  5.968 27.300  32.000  36.600  53.785\n",
              "diabetespedigreefunction 768.000   0.463  0.296  0.078  0.244   0.372   0.626   1.321\n",
              "age                      768.000  33.224 11.700 21.000 24.000  29.000  41.000  70.000\n",
              "outcome                  768.000   0.349  0.477  0.000  0.000   0.000   1.000   1.000"
            ],
            "text/html": [
              "\n",
              "  <div id=\"df-09279df2-62ef-44f6-8e59-4ed84317888a\">\n",
              "    <div class=\"colab-df-container\">\n",
              "      <div>\n",
              "<style scoped>\n",
              "    .dataframe tbody tr th:only-of-type {\n",
              "        vertical-align: middle;\n",
              "    }\n",
              "\n",
              "    .dataframe tbody tr th {\n",
              "        vertical-align: top;\n",
              "    }\n",
              "\n",
              "    .dataframe thead th {\n",
              "        text-align: right;\n",
              "    }\n",
              "</style>\n",
              "<table border=\"1\" class=\"dataframe\">\n",
              "  <thead>\n",
              "    <tr style=\"text-align: right;\">\n",
              "      <th></th>\n",
              "      <th>count</th>\n",
              "      <th>mean</th>\n",
              "      <th>std</th>\n",
              "      <th>min</th>\n",
              "      <th>25%</th>\n",
              "      <th>50%</th>\n",
              "      <th>75%</th>\n",
              "      <th>max</th>\n",
              "    </tr>\n",
              "  </thead>\n",
              "  <tbody>\n",
              "    <tr>\n",
              "      <th>pregnancies</th>\n",
              "      <td>768.000</td>\n",
              "      <td>3.842</td>\n",
              "      <td>3.360</td>\n",
              "      <td>0.000</td>\n",
              "      <td>1.000</td>\n",
              "      <td>3.000</td>\n",
              "      <td>6.000</td>\n",
              "      <td>15.000</td>\n",
              "    </tr>\n",
              "    <tr>\n",
              "      <th>glucose</th>\n",
              "      <td>768.000</td>\n",
              "      <td>120.937</td>\n",
              "      <td>31.816</td>\n",
              "      <td>6.500</td>\n",
              "      <td>99.000</td>\n",
              "      <td>117.000</td>\n",
              "      <td>140.250</td>\n",
              "      <td>199.000</td>\n",
              "    </tr>\n",
              "    <tr>\n",
              "      <th>bloodpressure</th>\n",
              "      <td>768.000</td>\n",
              "      <td>70.188</td>\n",
              "      <td>15.673</td>\n",
              "      <td>24.200</td>\n",
              "      <td>62.000</td>\n",
              "      <td>72.000</td>\n",
              "      <td>80.000</td>\n",
              "      <td>110.000</td>\n",
              "    </tr>\n",
              "    <tr>\n",
              "      <th>skinthickness</th>\n",
              "      <td>768.000</td>\n",
              "      <td>20.504</td>\n",
              "      <td>15.817</td>\n",
              "      <td>0.000</td>\n",
              "      <td>0.000</td>\n",
              "      <td>23.000</td>\n",
              "      <td>32.000</td>\n",
              "      <td>74.000</td>\n",
              "    </tr>\n",
              "    <tr>\n",
              "      <th>insulin</th>\n",
              "      <td>768.000</td>\n",
              "      <td>75.132</td>\n",
              "      <td>97.656</td>\n",
              "      <td>0.000</td>\n",
              "      <td>0.000</td>\n",
              "      <td>30.500</td>\n",
              "      <td>127.250</td>\n",
              "      <td>359.800</td>\n",
              "    </tr>\n",
              "    <tr>\n",
              "      <th>bmi</th>\n",
              "      <td>768.000</td>\n",
              "      <td>32.047</td>\n",
              "      <td>7.454</td>\n",
              "      <td>5.968</td>\n",
              "      <td>27.300</td>\n",
              "      <td>32.000</td>\n",
              "      <td>36.600</td>\n",
              "      <td>53.785</td>\n",
              "    </tr>\n",
              "    <tr>\n",
              "      <th>diabetespedigreefunction</th>\n",
              "      <td>768.000</td>\n",
              "      <td>0.463</td>\n",
              "      <td>0.296</td>\n",
              "      <td>0.078</td>\n",
              "      <td>0.244</td>\n",
              "      <td>0.372</td>\n",
              "      <td>0.626</td>\n",
              "      <td>1.321</td>\n",
              "    </tr>\n",
              "    <tr>\n",
              "      <th>age</th>\n",
              "      <td>768.000</td>\n",
              "      <td>33.224</td>\n",
              "      <td>11.700</td>\n",
              "      <td>21.000</td>\n",
              "      <td>24.000</td>\n",
              "      <td>29.000</td>\n",
              "      <td>41.000</td>\n",
              "      <td>70.000</td>\n",
              "    </tr>\n",
              "    <tr>\n",
              "      <th>outcome</th>\n",
              "      <td>768.000</td>\n",
              "      <td>0.349</td>\n",
              "      <td>0.477</td>\n",
              "      <td>0.000</td>\n",
              "      <td>0.000</td>\n",
              "      <td>0.000</td>\n",
              "      <td>1.000</td>\n",
              "      <td>1.000</td>\n",
              "    </tr>\n",
              "  </tbody>\n",
              "</table>\n",
              "</div>\n",
              "      <button class=\"colab-df-convert\" onclick=\"convertToInteractive('df-09279df2-62ef-44f6-8e59-4ed84317888a')\"\n",
              "              title=\"Convert this dataframe to an interactive table.\"\n",
              "              style=\"display:none;\">\n",
              "        \n",
              "  <svg xmlns=\"http://www.w3.org/2000/svg\" height=\"24px\"viewBox=\"0 0 24 24\"\n",
              "       width=\"24px\">\n",
              "    <path d=\"M0 0h24v24H0V0z\" fill=\"none\"/>\n",
              "    <path d=\"M18.56 5.44l.94 2.06.94-2.06 2.06-.94-2.06-.94-.94-2.06-.94 2.06-2.06.94zm-11 1L8.5 8.5l.94-2.06 2.06-.94-2.06-.94L8.5 2.5l-.94 2.06-2.06.94zm10 10l.94 2.06.94-2.06 2.06-.94-2.06-.94-.94-2.06-.94 2.06-2.06.94z\"/><path d=\"M17.41 7.96l-1.37-1.37c-.4-.4-.92-.59-1.43-.59-.52 0-1.04.2-1.43.59L10.3 9.45l-7.72 7.72c-.78.78-.78 2.05 0 2.83L4 21.41c.39.39.9.59 1.41.59.51 0 1.02-.2 1.41-.59l7.78-7.78 2.81-2.81c.8-.78.8-2.07 0-2.86zM5.41 20L4 18.59l7.72-7.72 1.47 1.35L5.41 20z\"/>\n",
              "  </svg>\n",
              "      </button>\n",
              "      \n",
              "  <style>\n",
              "    .colab-df-container {\n",
              "      display:flex;\n",
              "      flex-wrap:wrap;\n",
              "      gap: 12px;\n",
              "    }\n",
              "\n",
              "    .colab-df-convert {\n",
              "      background-color: #E8F0FE;\n",
              "      border: none;\n",
              "      border-radius: 50%;\n",
              "      cursor: pointer;\n",
              "      display: none;\n",
              "      fill: #1967D2;\n",
              "      height: 32px;\n",
              "      padding: 0 0 0 0;\n",
              "      width: 32px;\n",
              "    }\n",
              "\n",
              "    .colab-df-convert:hover {\n",
              "      background-color: #E2EBFA;\n",
              "      box-shadow: 0px 1px 2px rgba(60, 64, 67, 0.3), 0px 1px 3px 1px rgba(60, 64, 67, 0.15);\n",
              "      fill: #174EA6;\n",
              "    }\n",
              "\n",
              "    [theme=dark] .colab-df-convert {\n",
              "      background-color: #3B4455;\n",
              "      fill: #D2E3FC;\n",
              "    }\n",
              "\n",
              "    [theme=dark] .colab-df-convert:hover {\n",
              "      background-color: #434B5C;\n",
              "      box-shadow: 0px 1px 3px 1px rgba(0, 0, 0, 0.15);\n",
              "      filter: drop-shadow(0px 1px 2px rgba(0, 0, 0, 0.3));\n",
              "      fill: #FFFFFF;\n",
              "    }\n",
              "  </style>\n",
              "\n",
              "      <script>\n",
              "        const buttonEl =\n",
              "          document.querySelector('#df-09279df2-62ef-44f6-8e59-4ed84317888a button.colab-df-convert');\n",
              "        buttonEl.style.display =\n",
              "          google.colab.kernel.accessAllowed ? 'block' : 'none';\n",
              "\n",
              "        async function convertToInteractive(key) {\n",
              "          const element = document.querySelector('#df-09279df2-62ef-44f6-8e59-4ed84317888a');\n",
              "          const dataTable =\n",
              "            await google.colab.kernel.invokeFunction('convertToInteractive',\n",
              "                                                     [key], {});\n",
              "          if (!dataTable) return;\n",
              "\n",
              "          const docLinkHtml = 'Like what you see? Visit the ' +\n",
              "            '<a target=\"_blank\" href=https://colab.research.google.com/notebooks/data_table.ipynb>data table notebook</a>'\n",
              "            + ' to learn more about interactive tables.';\n",
              "          element.innerHTML = '';\n",
              "          dataTable['output_type'] = 'display_data';\n",
              "          await google.colab.output.renderOutput(dataTable, element);\n",
              "          const docLink = document.createElement('div');\n",
              "          docLink.innerHTML = docLinkHtml;\n",
              "          element.appendChild(docLink);\n",
              "        }\n",
              "      </script>\n",
              "    </div>\n",
              "  </div>\n",
              "  "
            ]
          },
          "metadata": {},
          "execution_count": 14
        }
      ]
    },
    {
      "cell_type": "code",
      "source": [
        "# There are no missing observations in the dataset\n",
        "# but for variables such as Glucose, Insulin, etc., observation units containing a value of 0 may represent a missing value.\n",
        "\n",
        "variables = [\"skinthickness\", \"insulin\"]\n",
        "df[variables] = df[variables].replace(0,np.NaN)\n",
        "df.isnull().sum()"
      ],
      "metadata": {
        "colab": {
          "base_uri": "https://localhost:8080/"
        },
        "id": "atEiuATiDOjC",
        "outputId": "a40872ab-be35-4074-904b-db2256f7a67a"
      },
      "execution_count": null,
      "outputs": [
        {
          "output_type": "execute_result",
          "data": {
            "text/plain": [
              "pregnancies                   0\n",
              "glucose                       0\n",
              "bloodpressure                 0\n",
              "skinthickness               227\n",
              "insulin                     374\n",
              "bmi                           0\n",
              "diabetespedigreefunction      0\n",
              "age                           0\n",
              "outcome                       0\n",
              "dtype: int64"
            ]
          },
          "metadata": {},
          "execution_count": 15
        }
      ]
    },
    {
      "cell_type": "code",
      "source": [
        "# Handle to missing value\n",
        "df[\"skinthickness\"].fillna(df.groupby(\"outcome\")[\"skinthickness\"].transform(\"mean\"), inplace=True)\n",
        "df[\"insulin\"].fillna(df.groupby('outcome')[\"insulin\"].transform(\"mean\"), inplace=True)\n",
        "df.isnull().sum()"
      ],
      "metadata": {
        "colab": {
          "base_uri": "https://localhost:8080/"
        },
        "id": "R9aqusUpDTzU",
        "outputId": "2cfddde5-1e78-48a9-c76d-59434127452b"
      },
      "execution_count": null,
      "outputs": [
        {
          "output_type": "execute_result",
          "data": {
            "text/plain": [
              "pregnancies                 0\n",
              "glucose                     0\n",
              "bloodpressure               0\n",
              "skinthickness               0\n",
              "insulin                     0\n",
              "bmi                         0\n",
              "diabetespedigreefunction    0\n",
              "age                         0\n",
              "outcome                     0\n",
              "dtype: int64"
            ]
          },
          "metadata": {},
          "execution_count": 16
        }
      ]
    },
    {
      "cell_type": "markdown",
      "source": [
        "# FEATURE ENGINEERING"
      ],
      "metadata": {
        "id": "d90AUEfeDuBi"
      }
    },
    {
      "cell_type": "code",
      "source": [
        "df.loc[(df['age'] >= 21) & (df['age'] <= 50), 'sex_cat'] = 'mature'\n",
        "df.loc[(df['age'] > 50), 'sex_cat'] = 'elder'"
      ],
      "metadata": {
        "id": "OBV0YGv1DW9H"
      },
      "execution_count": null,
      "outputs": []
    },
    {
      "cell_type": "code",
      "source": [
        "df[\"new_bmi\"] = pd.cut(x=df['bmi'], bins=[0, 18.5, 24.9, 29.9, 35, 40, 100],labels=[\"underweight\", \"healthy\", \"overweight\",\n",
        "                                                                                  \"obese1\", \"obese2\", \"obese3\"])"
      ],
      "metadata": {
        "id": "541L9cfAD0f8"
      },
      "execution_count": null,
      "outputs": []
    },
    {
      "cell_type": "code",
      "source": [
        "df.loc[(df[\"glucose\"] < 140), 'glucose_cat'] = \"normal\"\n",
        "df.loc[(df[\"glucose\"] >= 140), 'glucose_cat'] = \"at_risk\""
      ],
      "metadata": {
        "id": "gIPmddY8D2qG"
      },
      "execution_count": null,
      "outputs": []
    },
    {
      "cell_type": "code",
      "source": [
        "df.loc[(df['glucose'] < 140) & (df[\"age\"] <= 50), \"age_gul_cat\"] = \"normal_mature\"\n",
        "df.loc[(df['glucose'] < 140) & (df[\"age\"] > 50), \"age_gul_cat\"] = \"normal_elder\"\n",
        "df.loc[(df[\"glucose\"] >= 140)& (df['age'] <= 50), \"age_gul_cat\"] = \"at_risk_mature\"\n",
        "df.loc[(df[\"glucose\"] >= 140)& (df['age'] > 50), \"age_gul_cat\"] = \"at_risk_elder\""
      ],
      "metadata": {
        "id": "W9BxK1x3D4l6"
      },
      "execution_count": null,
      "outputs": []
    },
    {
      "cell_type": "code",
      "source": [
        "df.loc[(df[\"insulin\"] < 126), \"insul_level\"] = \"is_normal\"\n",
        "df.loc[(df[\"insulin\"] >= 126), \"insul_level\"] = \"not_normal\""
      ],
      "metadata": {
        "id": "iapvOIqfD7kq"
      },
      "execution_count": null,
      "outputs": []
    },
    {
      "cell_type": "code",
      "source": [
        "df.loc[(df[\"insulin\"] < 126) & (df[\"age\"] <= 50), \"age_insul_level\"] = \"is_normal_mature\"\n",
        "df.loc[(df[\"insulin\"] < 126) & (df[\"age\"] > 50), \"age_insul_level\"] = \"is_normal_elder\"\n",
        "df.loc[(df[\"insulin\"] >= 126) & (df[\"age\"] <= 50), \"age_insul_level\"] = \"not_normal_mature\"\n",
        "df.loc[(df[\"insulin\"] >= 126) & (df[\"age\"] > 50), \"age_insul_level\"] = \"not_normal_elder\""
      ],
      "metadata": {
        "id": "LZaBAMpZD9QD"
      },
      "execution_count": null,
      "outputs": []
    },
    {
      "cell_type": "code",
      "source": [
        "df[\"gulucos_insulin\"] = df[\"glucose\"]*df[\"insulin\"]\n",
        "df.head()"
      ],
      "metadata": {
        "colab": {
          "base_uri": "https://localhost:8080/",
          "height": 270
        },
        "id": "3SrC5E4ID_Ho",
        "outputId": "32aa3e86-7c95-4f53-e03b-b5d446cf5b6d"
      },
      "execution_count": null,
      "outputs": [
        {
          "output_type": "execute_result",
          "data": {
            "text/plain": [
              "   pregnancies  glucose  bloodpressure  skinthickness  insulin    bmi  diabetespedigreefunction    age  outcome sex_cat     new_bmi glucose_cat     age_gul_cat insul_level    age_insul_level  gulucos_insulin\n",
              "0        6.000  148.000         72.000         35.000  189.692 33.600                     0.627 50.000        1  mature      obese1     at_risk  at_risk_mature  not_normal  not_normal_mature        28074.462\n",
              "1        1.000   85.000         66.000         29.000  125.155 26.600                     0.351 31.000        0  mature  overweight      normal   normal_mature   is_normal   is_normal_mature        10638.201\n",
              "2        8.000  183.000         64.000         32.861  189.692 23.300                     0.672 32.000        1  mature     healthy     at_risk  at_risk_mature  not_normal  not_normal_mature        34713.692\n",
              "3        1.000   89.000         66.000         23.000   94.000 28.100                     0.167 21.000        0  mature  overweight      normal   normal_mature   is_normal   is_normal_mature         8366.000\n",
              "4        0.000  137.000         40.000         35.000  168.000 43.100                     1.321 33.000        1  mature      obese3      normal   normal_mature  not_normal  not_normal_mature        23016.000"
            ],
            "text/html": [
              "\n",
              "  <div id=\"df-04cf19d4-b9cf-4461-9cf3-742a530cb5ff\">\n",
              "    <div class=\"colab-df-container\">\n",
              "      <div>\n",
              "<style scoped>\n",
              "    .dataframe tbody tr th:only-of-type {\n",
              "        vertical-align: middle;\n",
              "    }\n",
              "\n",
              "    .dataframe tbody tr th {\n",
              "        vertical-align: top;\n",
              "    }\n",
              "\n",
              "    .dataframe thead th {\n",
              "        text-align: right;\n",
              "    }\n",
              "</style>\n",
              "<table border=\"1\" class=\"dataframe\">\n",
              "  <thead>\n",
              "    <tr style=\"text-align: right;\">\n",
              "      <th></th>\n",
              "      <th>pregnancies</th>\n",
              "      <th>glucose</th>\n",
              "      <th>bloodpressure</th>\n",
              "      <th>skinthickness</th>\n",
              "      <th>insulin</th>\n",
              "      <th>bmi</th>\n",
              "      <th>diabetespedigreefunction</th>\n",
              "      <th>age</th>\n",
              "      <th>outcome</th>\n",
              "      <th>sex_cat</th>\n",
              "      <th>new_bmi</th>\n",
              "      <th>glucose_cat</th>\n",
              "      <th>age_gul_cat</th>\n",
              "      <th>insul_level</th>\n",
              "      <th>age_insul_level</th>\n",
              "      <th>gulucos_insulin</th>\n",
              "    </tr>\n",
              "  </thead>\n",
              "  <tbody>\n",
              "    <tr>\n",
              "      <th>0</th>\n",
              "      <td>6.000</td>\n",
              "      <td>148.000</td>\n",
              "      <td>72.000</td>\n",
              "      <td>35.000</td>\n",
              "      <td>189.692</td>\n",
              "      <td>33.600</td>\n",
              "      <td>0.627</td>\n",
              "      <td>50.000</td>\n",
              "      <td>1</td>\n",
              "      <td>mature</td>\n",
              "      <td>obese1</td>\n",
              "      <td>at_risk</td>\n",
              "      <td>at_risk_mature</td>\n",
              "      <td>not_normal</td>\n",
              "      <td>not_normal_mature</td>\n",
              "      <td>28074.462</td>\n",
              "    </tr>\n",
              "    <tr>\n",
              "      <th>1</th>\n",
              "      <td>1.000</td>\n",
              "      <td>85.000</td>\n",
              "      <td>66.000</td>\n",
              "      <td>29.000</td>\n",
              "      <td>125.155</td>\n",
              "      <td>26.600</td>\n",
              "      <td>0.351</td>\n",
              "      <td>31.000</td>\n",
              "      <td>0</td>\n",
              "      <td>mature</td>\n",
              "      <td>overweight</td>\n",
              "      <td>normal</td>\n",
              "      <td>normal_mature</td>\n",
              "      <td>is_normal</td>\n",
              "      <td>is_normal_mature</td>\n",
              "      <td>10638.201</td>\n",
              "    </tr>\n",
              "    <tr>\n",
              "      <th>2</th>\n",
              "      <td>8.000</td>\n",
              "      <td>183.000</td>\n",
              "      <td>64.000</td>\n",
              "      <td>32.861</td>\n",
              "      <td>189.692</td>\n",
              "      <td>23.300</td>\n",
              "      <td>0.672</td>\n",
              "      <td>32.000</td>\n",
              "      <td>1</td>\n",
              "      <td>mature</td>\n",
              "      <td>healthy</td>\n",
              "      <td>at_risk</td>\n",
              "      <td>at_risk_mature</td>\n",
              "      <td>not_normal</td>\n",
              "      <td>not_normal_mature</td>\n",
              "      <td>34713.692</td>\n",
              "    </tr>\n",
              "    <tr>\n",
              "      <th>3</th>\n",
              "      <td>1.000</td>\n",
              "      <td>89.000</td>\n",
              "      <td>66.000</td>\n",
              "      <td>23.000</td>\n",
              "      <td>94.000</td>\n",
              "      <td>28.100</td>\n",
              "      <td>0.167</td>\n",
              "      <td>21.000</td>\n",
              "      <td>0</td>\n",
              "      <td>mature</td>\n",
              "      <td>overweight</td>\n",
              "      <td>normal</td>\n",
              "      <td>normal_mature</td>\n",
              "      <td>is_normal</td>\n",
              "      <td>is_normal_mature</td>\n",
              "      <td>8366.000</td>\n",
              "    </tr>\n",
              "    <tr>\n",
              "      <th>4</th>\n",
              "      <td>0.000</td>\n",
              "      <td>137.000</td>\n",
              "      <td>40.000</td>\n",
              "      <td>35.000</td>\n",
              "      <td>168.000</td>\n",
              "      <td>43.100</td>\n",
              "      <td>1.321</td>\n",
              "      <td>33.000</td>\n",
              "      <td>1</td>\n",
              "      <td>mature</td>\n",
              "      <td>obese3</td>\n",
              "      <td>normal</td>\n",
              "      <td>normal_mature</td>\n",
              "      <td>not_normal</td>\n",
              "      <td>not_normal_mature</td>\n",
              "      <td>23016.000</td>\n",
              "    </tr>\n",
              "  </tbody>\n",
              "</table>\n",
              "</div>\n",
              "      <button class=\"colab-df-convert\" onclick=\"convertToInteractive('df-04cf19d4-b9cf-4461-9cf3-742a530cb5ff')\"\n",
              "              title=\"Convert this dataframe to an interactive table.\"\n",
              "              style=\"display:none;\">\n",
              "        \n",
              "  <svg xmlns=\"http://www.w3.org/2000/svg\" height=\"24px\"viewBox=\"0 0 24 24\"\n",
              "       width=\"24px\">\n",
              "    <path d=\"M0 0h24v24H0V0z\" fill=\"none\"/>\n",
              "    <path d=\"M18.56 5.44l.94 2.06.94-2.06 2.06-.94-2.06-.94-.94-2.06-.94 2.06-2.06.94zm-11 1L8.5 8.5l.94-2.06 2.06-.94-2.06-.94L8.5 2.5l-.94 2.06-2.06.94zm10 10l.94 2.06.94-2.06 2.06-.94-2.06-.94-.94-2.06-.94 2.06-2.06.94z\"/><path d=\"M17.41 7.96l-1.37-1.37c-.4-.4-.92-.59-1.43-.59-.52 0-1.04.2-1.43.59L10.3 9.45l-7.72 7.72c-.78.78-.78 2.05 0 2.83L4 21.41c.39.39.9.59 1.41.59.51 0 1.02-.2 1.41-.59l7.78-7.78 2.81-2.81c.8-.78.8-2.07 0-2.86zM5.41 20L4 18.59l7.72-7.72 1.47 1.35L5.41 20z\"/>\n",
              "  </svg>\n",
              "      </button>\n",
              "      \n",
              "  <style>\n",
              "    .colab-df-container {\n",
              "      display:flex;\n",
              "      flex-wrap:wrap;\n",
              "      gap: 12px;\n",
              "    }\n",
              "\n",
              "    .colab-df-convert {\n",
              "      background-color: #E8F0FE;\n",
              "      border: none;\n",
              "      border-radius: 50%;\n",
              "      cursor: pointer;\n",
              "      display: none;\n",
              "      fill: #1967D2;\n",
              "      height: 32px;\n",
              "      padding: 0 0 0 0;\n",
              "      width: 32px;\n",
              "    }\n",
              "\n",
              "    .colab-df-convert:hover {\n",
              "      background-color: #E2EBFA;\n",
              "      box-shadow: 0px 1px 2px rgba(60, 64, 67, 0.3), 0px 1px 3px 1px rgba(60, 64, 67, 0.15);\n",
              "      fill: #174EA6;\n",
              "    }\n",
              "\n",
              "    [theme=dark] .colab-df-convert {\n",
              "      background-color: #3B4455;\n",
              "      fill: #D2E3FC;\n",
              "    }\n",
              "\n",
              "    [theme=dark] .colab-df-convert:hover {\n",
              "      background-color: #434B5C;\n",
              "      box-shadow: 0px 1px 3px 1px rgba(0, 0, 0, 0.15);\n",
              "      filter: drop-shadow(0px 1px 2px rgba(0, 0, 0, 0.3));\n",
              "      fill: #FFFFFF;\n",
              "    }\n",
              "  </style>\n",
              "\n",
              "      <script>\n",
              "        const buttonEl =\n",
              "          document.querySelector('#df-04cf19d4-b9cf-4461-9cf3-742a530cb5ff button.colab-df-convert');\n",
              "        buttonEl.style.display =\n",
              "          google.colab.kernel.accessAllowed ? 'block' : 'none';\n",
              "\n",
              "        async function convertToInteractive(key) {\n",
              "          const element = document.querySelector('#df-04cf19d4-b9cf-4461-9cf3-742a530cb5ff');\n",
              "          const dataTable =\n",
              "            await google.colab.kernel.invokeFunction('convertToInteractive',\n",
              "                                                     [key], {});\n",
              "          if (!dataTable) return;\n",
              "\n",
              "          const docLinkHtml = 'Like what you see? Visit the ' +\n",
              "            '<a target=\"_blank\" href=https://colab.research.google.com/notebooks/data_table.ipynb>data table notebook</a>'\n",
              "            + ' to learn more about interactive tables.';\n",
              "          element.innerHTML = '';\n",
              "          dataTable['output_type'] = 'display_data';\n",
              "          await google.colab.output.renderOutput(dataTable, element);\n",
              "          const docLink = document.createElement('div');\n",
              "          docLink.innerHTML = docLinkHtml;\n",
              "          element.appendChild(docLink);\n",
              "        }\n",
              "      </script>\n",
              "    </div>\n",
              "  </div>\n",
              "  "
            ]
          },
          "metadata": {},
          "execution_count": 23
        }
      ]
    },
    {
      "cell_type": "code",
      "source": [
        "# Checking again grab_col_names function\n",
        "cat_cols, num_cols, cat_but_car = grab_col_names(df)"
      ],
      "metadata": {
        "colab": {
          "base_uri": "https://localhost:8080/"
        },
        "id": "ZKF3UlbhEBs7",
        "outputId": "89e45c4d-c062-458d-bc46-fea3479e819b"
      },
      "execution_count": null,
      "outputs": [
        {
          "output_type": "stream",
          "name": "stdout",
          "text": [
            "Observations: 768\n",
            "Variables: 16\n",
            "cat_cols: 7\n",
            "num_cols: 9\n",
            "cat_but_car: 0\n",
            "num_but_cat: 2\n"
          ]
        }
      ]
    },
    {
      "cell_type": "code",
      "source": [
        "def cat_summary(dataframe, col_name, plot=False):\n",
        "    print(pd.DataFrame({col_name: dataframe[col_name].value_counts(),\n",
        "                        \"Ratio\": 100 * dataframe[col_name].value_counts() / len(dataframe)}))\n",
        "    print(\"##########################################\")\n",
        "    if plot:\n",
        "        sns.countplot(x=dataframe[col_name], data=dataframe)\n",
        "        plt.show()\n",
        "\n",
        "for col in cat_cols:\n",
        "    cat_summary(df, col)"
      ],
      "metadata": {
        "colab": {
          "base_uri": "https://localhost:8080/"
        },
        "id": "0UAQFkeSEFr9",
        "outputId": "4eb46eb6-8e8d-4736-c44a-7fb383e36c0b"
      },
      "execution_count": null,
      "outputs": [
        {
          "output_type": "stream",
          "name": "stdout",
          "text": [
            "        sex_cat  Ratio\n",
            "mature      687 89.453\n",
            "elder        81 10.547\n",
            "##########################################\n",
            "         glucose_cat  Ratio\n",
            "normal           571 74.349\n",
            "at_risk          197 25.651\n",
            "##########################################\n",
            "                age_gul_cat  Ratio\n",
            "normal_mature           529 68.880\n",
            "at_risk_mature          158 20.573\n",
            "normal_elder             42  5.469\n",
            "at_risk_elder            39  5.078\n",
            "##########################################\n",
            "            insul_level  Ratio\n",
            "is_normal           434 56.510\n",
            "not_normal          334 43.490\n",
            "##########################################\n",
            "                   age_insul_level  Ratio\n",
            "is_normal_mature               397 51.693\n",
            "not_normal_mature              290 37.760\n",
            "not_normal_elder                44  5.729\n",
            "is_normal_elder                 37  4.818\n",
            "##########################################\n",
            "   outcome  Ratio\n",
            "0      500 65.104\n",
            "1      268 34.896\n",
            "##########################################\n",
            "             new_bmi  Ratio\n",
            "obese1           228 29.688\n",
            "overweight       179 23.307\n",
            "obese2           148 19.271\n",
            "healthy          102 13.281\n",
            "obese3            96 12.500\n",
            "underweight       15  1.953\n",
            "##########################################\n"
          ]
        }
      ]
    },
    {
      "cell_type": "code",
      "source": [
        "# Encoding\n",
        "\n",
        "le = LabelEncoder()\n",
        "\n",
        "def label_encoder(dataframe, binary_col):\n",
        "    labelencoder = LabelEncoder()\n",
        "    dataframe[binary_col] = labelencoder.fit_transform(dataframe[binary_col])\n",
        "    return dataframe\n",
        "\n",
        "binary_cols = [col for col in df.columns if df[col].dtypes == \"O\" and df[col].nunique() == 2]\n",
        "print(binary_cols)"
      ],
      "metadata": {
        "colab": {
          "base_uri": "https://localhost:8080/"
        },
        "id": "QAZcQgr2EI4U",
        "outputId": "e659399d-f6cc-4701-a7b2-38fc4911272f"
      },
      "execution_count": null,
      "outputs": [
        {
          "output_type": "stream",
          "name": "stdout",
          "text": [
            "['sex_cat', 'glucose_cat', 'insul_level']\n"
          ]
        }
      ]
    },
    {
      "cell_type": "code",
      "source": [
        "df = label_encoder(df, \"sex_cat\")\n",
        "df = label_encoder(df, 'glucose_cat')\n",
        "df = label_encoder(df,'insul_level')"
      ],
      "metadata": {
        "id": "4jnwajWzELTe"
      },
      "execution_count": null,
      "outputs": []
    },
    {
      "cell_type": "code",
      "source": [
        "def one_hot_encoder(dataframe, categorical_cols, drop_first=True):\n",
        "    dataframe = pd.get_dummies(dataframe, columns=categorical_cols, drop_first=drop_first)\n",
        "    return dataframe\n",
        "\n",
        "ohe_cols = [col for col in df.columns if 12 >= df[col].nunique() > 2]\n",
        "\n",
        "df = one_hot_encoder(df, ohe_cols, drop_first=True)\n",
        "df.head()"
      ],
      "metadata": {
        "colab": {
          "base_uri": "https://localhost:8080/",
          "height": 270
        },
        "id": "sk3nWhW3EN4_",
        "outputId": "300f3b28-88b7-4bae-8b3f-2273f8504dc0"
      },
      "execution_count": null,
      "outputs": [
        {
          "output_type": "execute_result",
          "data": {
            "text/plain": [
              "   pregnancies  glucose  bloodpressure  skinthickness  insulin    bmi  diabetespedigreefunction    age  outcome  sex_cat  glucose_cat  insul_level  gulucos_insulin  new_bmi_healthy  new_bmi_overweight  new_bmi_obese1  new_bmi_obese2  new_bmi_obese3  age_gul_cat_at_risk_mature  age_gul_cat_normal_elder  age_gul_cat_normal_mature  age_insul_level_is_normal_mature  age_insul_level_not_normal_elder  age_insul_level_not_normal_mature\n",
              "0        6.000  148.000         72.000         35.000  189.692 33.600                     0.627 50.000        1        1            0            1        28074.462                0                   0               1               0               0                           1                         0                          0                                 0                                 0                                  1\n",
              "1        1.000   85.000         66.000         29.000  125.155 26.600                     0.351 31.000        0        1            1            0        10638.201                0                   1               0               0               0                           0                         0                          1                                 1                                 0                                  0\n",
              "2        8.000  183.000         64.000         32.861  189.692 23.300                     0.672 32.000        1        1            0            1        34713.692                1                   0               0               0               0                           1                         0                          0                                 0                                 0                                  1\n",
              "3        1.000   89.000         66.000         23.000   94.000 28.100                     0.167 21.000        0        1            1            0         8366.000                0                   1               0               0               0                           0                         0                          1                                 1                                 0                                  0\n",
              "4        0.000  137.000         40.000         35.000  168.000 43.100                     1.321 33.000        1        1            1            1        23016.000                0                   0               0               0               1                           0                         0                          1                                 0                                 0                                  1"
            ],
            "text/html": [
              "\n",
              "  <div id=\"df-fcf812b8-4d5e-4998-bf73-660f1d9dab4b\">\n",
              "    <div class=\"colab-df-container\">\n",
              "      <div>\n",
              "<style scoped>\n",
              "    .dataframe tbody tr th:only-of-type {\n",
              "        vertical-align: middle;\n",
              "    }\n",
              "\n",
              "    .dataframe tbody tr th {\n",
              "        vertical-align: top;\n",
              "    }\n",
              "\n",
              "    .dataframe thead th {\n",
              "        text-align: right;\n",
              "    }\n",
              "</style>\n",
              "<table border=\"1\" class=\"dataframe\">\n",
              "  <thead>\n",
              "    <tr style=\"text-align: right;\">\n",
              "      <th></th>\n",
              "      <th>pregnancies</th>\n",
              "      <th>glucose</th>\n",
              "      <th>bloodpressure</th>\n",
              "      <th>skinthickness</th>\n",
              "      <th>insulin</th>\n",
              "      <th>bmi</th>\n",
              "      <th>diabetespedigreefunction</th>\n",
              "      <th>age</th>\n",
              "      <th>outcome</th>\n",
              "      <th>sex_cat</th>\n",
              "      <th>glucose_cat</th>\n",
              "      <th>insul_level</th>\n",
              "      <th>gulucos_insulin</th>\n",
              "      <th>new_bmi_healthy</th>\n",
              "      <th>new_bmi_overweight</th>\n",
              "      <th>new_bmi_obese1</th>\n",
              "      <th>new_bmi_obese2</th>\n",
              "      <th>new_bmi_obese3</th>\n",
              "      <th>age_gul_cat_at_risk_mature</th>\n",
              "      <th>age_gul_cat_normal_elder</th>\n",
              "      <th>age_gul_cat_normal_mature</th>\n",
              "      <th>age_insul_level_is_normal_mature</th>\n",
              "      <th>age_insul_level_not_normal_elder</th>\n",
              "      <th>age_insul_level_not_normal_mature</th>\n",
              "    </tr>\n",
              "  </thead>\n",
              "  <tbody>\n",
              "    <tr>\n",
              "      <th>0</th>\n",
              "      <td>6.000</td>\n",
              "      <td>148.000</td>\n",
              "      <td>72.000</td>\n",
              "      <td>35.000</td>\n",
              "      <td>189.692</td>\n",
              "      <td>33.600</td>\n",
              "      <td>0.627</td>\n",
              "      <td>50.000</td>\n",
              "      <td>1</td>\n",
              "      <td>1</td>\n",
              "      <td>0</td>\n",
              "      <td>1</td>\n",
              "      <td>28074.462</td>\n",
              "      <td>0</td>\n",
              "      <td>0</td>\n",
              "      <td>1</td>\n",
              "      <td>0</td>\n",
              "      <td>0</td>\n",
              "      <td>1</td>\n",
              "      <td>0</td>\n",
              "      <td>0</td>\n",
              "      <td>0</td>\n",
              "      <td>0</td>\n",
              "      <td>1</td>\n",
              "    </tr>\n",
              "    <tr>\n",
              "      <th>1</th>\n",
              "      <td>1.000</td>\n",
              "      <td>85.000</td>\n",
              "      <td>66.000</td>\n",
              "      <td>29.000</td>\n",
              "      <td>125.155</td>\n",
              "      <td>26.600</td>\n",
              "      <td>0.351</td>\n",
              "      <td>31.000</td>\n",
              "      <td>0</td>\n",
              "      <td>1</td>\n",
              "      <td>1</td>\n",
              "      <td>0</td>\n",
              "      <td>10638.201</td>\n",
              "      <td>0</td>\n",
              "      <td>1</td>\n",
              "      <td>0</td>\n",
              "      <td>0</td>\n",
              "      <td>0</td>\n",
              "      <td>0</td>\n",
              "      <td>0</td>\n",
              "      <td>1</td>\n",
              "      <td>1</td>\n",
              "      <td>0</td>\n",
              "      <td>0</td>\n",
              "    </tr>\n",
              "    <tr>\n",
              "      <th>2</th>\n",
              "      <td>8.000</td>\n",
              "      <td>183.000</td>\n",
              "      <td>64.000</td>\n",
              "      <td>32.861</td>\n",
              "      <td>189.692</td>\n",
              "      <td>23.300</td>\n",
              "      <td>0.672</td>\n",
              "      <td>32.000</td>\n",
              "      <td>1</td>\n",
              "      <td>1</td>\n",
              "      <td>0</td>\n",
              "      <td>1</td>\n",
              "      <td>34713.692</td>\n",
              "      <td>1</td>\n",
              "      <td>0</td>\n",
              "      <td>0</td>\n",
              "      <td>0</td>\n",
              "      <td>0</td>\n",
              "      <td>1</td>\n",
              "      <td>0</td>\n",
              "      <td>0</td>\n",
              "      <td>0</td>\n",
              "      <td>0</td>\n",
              "      <td>1</td>\n",
              "    </tr>\n",
              "    <tr>\n",
              "      <th>3</th>\n",
              "      <td>1.000</td>\n",
              "      <td>89.000</td>\n",
              "      <td>66.000</td>\n",
              "      <td>23.000</td>\n",
              "      <td>94.000</td>\n",
              "      <td>28.100</td>\n",
              "      <td>0.167</td>\n",
              "      <td>21.000</td>\n",
              "      <td>0</td>\n",
              "      <td>1</td>\n",
              "      <td>1</td>\n",
              "      <td>0</td>\n",
              "      <td>8366.000</td>\n",
              "      <td>0</td>\n",
              "      <td>1</td>\n",
              "      <td>0</td>\n",
              "      <td>0</td>\n",
              "      <td>0</td>\n",
              "      <td>0</td>\n",
              "      <td>0</td>\n",
              "      <td>1</td>\n",
              "      <td>1</td>\n",
              "      <td>0</td>\n",
              "      <td>0</td>\n",
              "    </tr>\n",
              "    <tr>\n",
              "      <th>4</th>\n",
              "      <td>0.000</td>\n",
              "      <td>137.000</td>\n",
              "      <td>40.000</td>\n",
              "      <td>35.000</td>\n",
              "      <td>168.000</td>\n",
              "      <td>43.100</td>\n",
              "      <td>1.321</td>\n",
              "      <td>33.000</td>\n",
              "      <td>1</td>\n",
              "      <td>1</td>\n",
              "      <td>1</td>\n",
              "      <td>1</td>\n",
              "      <td>23016.000</td>\n",
              "      <td>0</td>\n",
              "      <td>0</td>\n",
              "      <td>0</td>\n",
              "      <td>0</td>\n",
              "      <td>1</td>\n",
              "      <td>0</td>\n",
              "      <td>0</td>\n",
              "      <td>1</td>\n",
              "      <td>0</td>\n",
              "      <td>0</td>\n",
              "      <td>1</td>\n",
              "    </tr>\n",
              "  </tbody>\n",
              "</table>\n",
              "</div>\n",
              "      <button class=\"colab-df-convert\" onclick=\"convertToInteractive('df-fcf812b8-4d5e-4998-bf73-660f1d9dab4b')\"\n",
              "              title=\"Convert this dataframe to an interactive table.\"\n",
              "              style=\"display:none;\">\n",
              "        \n",
              "  <svg xmlns=\"http://www.w3.org/2000/svg\" height=\"24px\"viewBox=\"0 0 24 24\"\n",
              "       width=\"24px\">\n",
              "    <path d=\"M0 0h24v24H0V0z\" fill=\"none\"/>\n",
              "    <path d=\"M18.56 5.44l.94 2.06.94-2.06 2.06-.94-2.06-.94-.94-2.06-.94 2.06-2.06.94zm-11 1L8.5 8.5l.94-2.06 2.06-.94-2.06-.94L8.5 2.5l-.94 2.06-2.06.94zm10 10l.94 2.06.94-2.06 2.06-.94-2.06-.94-.94-2.06-.94 2.06-2.06.94z\"/><path d=\"M17.41 7.96l-1.37-1.37c-.4-.4-.92-.59-1.43-.59-.52 0-1.04.2-1.43.59L10.3 9.45l-7.72 7.72c-.78.78-.78 2.05 0 2.83L4 21.41c.39.39.9.59 1.41.59.51 0 1.02-.2 1.41-.59l7.78-7.78 2.81-2.81c.8-.78.8-2.07 0-2.86zM5.41 20L4 18.59l7.72-7.72 1.47 1.35L5.41 20z\"/>\n",
              "  </svg>\n",
              "      </button>\n",
              "      \n",
              "  <style>\n",
              "    .colab-df-container {\n",
              "      display:flex;\n",
              "      flex-wrap:wrap;\n",
              "      gap: 12px;\n",
              "    }\n",
              "\n",
              "    .colab-df-convert {\n",
              "      background-color: #E8F0FE;\n",
              "      border: none;\n",
              "      border-radius: 50%;\n",
              "      cursor: pointer;\n",
              "      display: none;\n",
              "      fill: #1967D2;\n",
              "      height: 32px;\n",
              "      padding: 0 0 0 0;\n",
              "      width: 32px;\n",
              "    }\n",
              "\n",
              "    .colab-df-convert:hover {\n",
              "      background-color: #E2EBFA;\n",
              "      box-shadow: 0px 1px 2px rgba(60, 64, 67, 0.3), 0px 1px 3px 1px rgba(60, 64, 67, 0.15);\n",
              "      fill: #174EA6;\n",
              "    }\n",
              "\n",
              "    [theme=dark] .colab-df-convert {\n",
              "      background-color: #3B4455;\n",
              "      fill: #D2E3FC;\n",
              "    }\n",
              "\n",
              "    [theme=dark] .colab-df-convert:hover {\n",
              "      background-color: #434B5C;\n",
              "      box-shadow: 0px 1px 3px 1px rgba(0, 0, 0, 0.15);\n",
              "      filter: drop-shadow(0px 1px 2px rgba(0, 0, 0, 0.3));\n",
              "      fill: #FFFFFF;\n",
              "    }\n",
              "  </style>\n",
              "\n",
              "      <script>\n",
              "        const buttonEl =\n",
              "          document.querySelector('#df-fcf812b8-4d5e-4998-bf73-660f1d9dab4b button.colab-df-convert');\n",
              "        buttonEl.style.display =\n",
              "          google.colab.kernel.accessAllowed ? 'block' : 'none';\n",
              "\n",
              "        async function convertToInteractive(key) {\n",
              "          const element = document.querySelector('#df-fcf812b8-4d5e-4998-bf73-660f1d9dab4b');\n",
              "          const dataTable =\n",
              "            await google.colab.kernel.invokeFunction('convertToInteractive',\n",
              "                                                     [key], {});\n",
              "          if (!dataTable) return;\n",
              "\n",
              "          const docLinkHtml = 'Like what you see? Visit the ' +\n",
              "            '<a target=\"_blank\" href=https://colab.research.google.com/notebooks/data_table.ipynb>data table notebook</a>'\n",
              "            + ' to learn more about interactive tables.';\n",
              "          element.innerHTML = '';\n",
              "          dataTable['output_type'] = 'display_data';\n",
              "          await google.colab.output.renderOutput(dataTable, element);\n",
              "          const docLink = document.createElement('div');\n",
              "          docLink.innerHTML = docLinkHtml;\n",
              "          element.appendChild(docLink);\n",
              "        }\n",
              "      </script>\n",
              "    </div>\n",
              "  </div>\n",
              "  "
            ]
          },
          "metadata": {},
          "execution_count": 28
        }
      ]
    },
    {
      "cell_type": "code",
      "source": [
        "df.head()"
      ],
      "metadata": {
        "colab": {
          "base_uri": "https://localhost:8080/",
          "height": 270
        },
        "id": "oj739TjzEQ2-",
        "outputId": "f42454f1-3239-4f79-c69a-c874d77725df"
      },
      "execution_count": null,
      "outputs": [
        {
          "output_type": "execute_result",
          "data": {
            "text/plain": [
              "   pregnancies  glucose  bloodpressure  skinthickness  insulin    bmi  diabetespedigreefunction    age  outcome  sex_cat  glucose_cat  insul_level  gulucos_insulin  new_bmi_healthy  new_bmi_overweight  new_bmi_obese1  new_bmi_obese2  new_bmi_obese3  age_gul_cat_at_risk_mature  age_gul_cat_normal_elder  age_gul_cat_normal_mature  age_insul_level_is_normal_mature  age_insul_level_not_normal_elder  age_insul_level_not_normal_mature\n",
              "0        6.000  148.000         72.000         35.000  189.692 33.600                     0.627 50.000        1        1            0            1        28074.462                0                   0               1               0               0                           1                         0                          0                                 0                                 0                                  1\n",
              "1        1.000   85.000         66.000         29.000  125.155 26.600                     0.351 31.000        0        1            1            0        10638.201                0                   1               0               0               0                           0                         0                          1                                 1                                 0                                  0\n",
              "2        8.000  183.000         64.000         32.861  189.692 23.300                     0.672 32.000        1        1            0            1        34713.692                1                   0               0               0               0                           1                         0                          0                                 0                                 0                                  1\n",
              "3        1.000   89.000         66.000         23.000   94.000 28.100                     0.167 21.000        0        1            1            0         8366.000                0                   1               0               0               0                           0                         0                          1                                 1                                 0                                  0\n",
              "4        0.000  137.000         40.000         35.000  168.000 43.100                     1.321 33.000        1        1            1            1        23016.000                0                   0               0               0               1                           0                         0                          1                                 0                                 0                                  1"
            ],
            "text/html": [
              "\n",
              "  <div id=\"df-2dd135cd-13ae-44d3-b954-3d5165536c2f\">\n",
              "    <div class=\"colab-df-container\">\n",
              "      <div>\n",
              "<style scoped>\n",
              "    .dataframe tbody tr th:only-of-type {\n",
              "        vertical-align: middle;\n",
              "    }\n",
              "\n",
              "    .dataframe tbody tr th {\n",
              "        vertical-align: top;\n",
              "    }\n",
              "\n",
              "    .dataframe thead th {\n",
              "        text-align: right;\n",
              "    }\n",
              "</style>\n",
              "<table border=\"1\" class=\"dataframe\">\n",
              "  <thead>\n",
              "    <tr style=\"text-align: right;\">\n",
              "      <th></th>\n",
              "      <th>pregnancies</th>\n",
              "      <th>glucose</th>\n",
              "      <th>bloodpressure</th>\n",
              "      <th>skinthickness</th>\n",
              "      <th>insulin</th>\n",
              "      <th>bmi</th>\n",
              "      <th>diabetespedigreefunction</th>\n",
              "      <th>age</th>\n",
              "      <th>outcome</th>\n",
              "      <th>sex_cat</th>\n",
              "      <th>glucose_cat</th>\n",
              "      <th>insul_level</th>\n",
              "      <th>gulucos_insulin</th>\n",
              "      <th>new_bmi_healthy</th>\n",
              "      <th>new_bmi_overweight</th>\n",
              "      <th>new_bmi_obese1</th>\n",
              "      <th>new_bmi_obese2</th>\n",
              "      <th>new_bmi_obese3</th>\n",
              "      <th>age_gul_cat_at_risk_mature</th>\n",
              "      <th>age_gul_cat_normal_elder</th>\n",
              "      <th>age_gul_cat_normal_mature</th>\n",
              "      <th>age_insul_level_is_normal_mature</th>\n",
              "      <th>age_insul_level_not_normal_elder</th>\n",
              "      <th>age_insul_level_not_normal_mature</th>\n",
              "    </tr>\n",
              "  </thead>\n",
              "  <tbody>\n",
              "    <tr>\n",
              "      <th>0</th>\n",
              "      <td>6.000</td>\n",
              "      <td>148.000</td>\n",
              "      <td>72.000</td>\n",
              "      <td>35.000</td>\n",
              "      <td>189.692</td>\n",
              "      <td>33.600</td>\n",
              "      <td>0.627</td>\n",
              "      <td>50.000</td>\n",
              "      <td>1</td>\n",
              "      <td>1</td>\n",
              "      <td>0</td>\n",
              "      <td>1</td>\n",
              "      <td>28074.462</td>\n",
              "      <td>0</td>\n",
              "      <td>0</td>\n",
              "      <td>1</td>\n",
              "      <td>0</td>\n",
              "      <td>0</td>\n",
              "      <td>1</td>\n",
              "      <td>0</td>\n",
              "      <td>0</td>\n",
              "      <td>0</td>\n",
              "      <td>0</td>\n",
              "      <td>1</td>\n",
              "    </tr>\n",
              "    <tr>\n",
              "      <th>1</th>\n",
              "      <td>1.000</td>\n",
              "      <td>85.000</td>\n",
              "      <td>66.000</td>\n",
              "      <td>29.000</td>\n",
              "      <td>125.155</td>\n",
              "      <td>26.600</td>\n",
              "      <td>0.351</td>\n",
              "      <td>31.000</td>\n",
              "      <td>0</td>\n",
              "      <td>1</td>\n",
              "      <td>1</td>\n",
              "      <td>0</td>\n",
              "      <td>10638.201</td>\n",
              "      <td>0</td>\n",
              "      <td>1</td>\n",
              "      <td>0</td>\n",
              "      <td>0</td>\n",
              "      <td>0</td>\n",
              "      <td>0</td>\n",
              "      <td>0</td>\n",
              "      <td>1</td>\n",
              "      <td>1</td>\n",
              "      <td>0</td>\n",
              "      <td>0</td>\n",
              "    </tr>\n",
              "    <tr>\n",
              "      <th>2</th>\n",
              "      <td>8.000</td>\n",
              "      <td>183.000</td>\n",
              "      <td>64.000</td>\n",
              "      <td>32.861</td>\n",
              "      <td>189.692</td>\n",
              "      <td>23.300</td>\n",
              "      <td>0.672</td>\n",
              "      <td>32.000</td>\n",
              "      <td>1</td>\n",
              "      <td>1</td>\n",
              "      <td>0</td>\n",
              "      <td>1</td>\n",
              "      <td>34713.692</td>\n",
              "      <td>1</td>\n",
              "      <td>0</td>\n",
              "      <td>0</td>\n",
              "      <td>0</td>\n",
              "      <td>0</td>\n",
              "      <td>1</td>\n",
              "      <td>0</td>\n",
              "      <td>0</td>\n",
              "      <td>0</td>\n",
              "      <td>0</td>\n",
              "      <td>1</td>\n",
              "    </tr>\n",
              "    <tr>\n",
              "      <th>3</th>\n",
              "      <td>1.000</td>\n",
              "      <td>89.000</td>\n",
              "      <td>66.000</td>\n",
              "      <td>23.000</td>\n",
              "      <td>94.000</td>\n",
              "      <td>28.100</td>\n",
              "      <td>0.167</td>\n",
              "      <td>21.000</td>\n",
              "      <td>0</td>\n",
              "      <td>1</td>\n",
              "      <td>1</td>\n",
              "      <td>0</td>\n",
              "      <td>8366.000</td>\n",
              "      <td>0</td>\n",
              "      <td>1</td>\n",
              "      <td>0</td>\n",
              "      <td>0</td>\n",
              "      <td>0</td>\n",
              "      <td>0</td>\n",
              "      <td>0</td>\n",
              "      <td>1</td>\n",
              "      <td>1</td>\n",
              "      <td>0</td>\n",
              "      <td>0</td>\n",
              "    </tr>\n",
              "    <tr>\n",
              "      <th>4</th>\n",
              "      <td>0.000</td>\n",
              "      <td>137.000</td>\n",
              "      <td>40.000</td>\n",
              "      <td>35.000</td>\n",
              "      <td>168.000</td>\n",
              "      <td>43.100</td>\n",
              "      <td>1.321</td>\n",
              "      <td>33.000</td>\n",
              "      <td>1</td>\n",
              "      <td>1</td>\n",
              "      <td>1</td>\n",
              "      <td>1</td>\n",
              "      <td>23016.000</td>\n",
              "      <td>0</td>\n",
              "      <td>0</td>\n",
              "      <td>0</td>\n",
              "      <td>0</td>\n",
              "      <td>1</td>\n",
              "      <td>0</td>\n",
              "      <td>0</td>\n",
              "      <td>1</td>\n",
              "      <td>0</td>\n",
              "      <td>0</td>\n",
              "      <td>1</td>\n",
              "    </tr>\n",
              "  </tbody>\n",
              "</table>\n",
              "</div>\n",
              "      <button class=\"colab-df-convert\" onclick=\"convertToInteractive('df-2dd135cd-13ae-44d3-b954-3d5165536c2f')\"\n",
              "              title=\"Convert this dataframe to an interactive table.\"\n",
              "              style=\"display:none;\">\n",
              "        \n",
              "  <svg xmlns=\"http://www.w3.org/2000/svg\" height=\"24px\"viewBox=\"0 0 24 24\"\n",
              "       width=\"24px\">\n",
              "    <path d=\"M0 0h24v24H0V0z\" fill=\"none\"/>\n",
              "    <path d=\"M18.56 5.44l.94 2.06.94-2.06 2.06-.94-2.06-.94-.94-2.06-.94 2.06-2.06.94zm-11 1L8.5 8.5l.94-2.06 2.06-.94-2.06-.94L8.5 2.5l-.94 2.06-2.06.94zm10 10l.94 2.06.94-2.06 2.06-.94-2.06-.94-.94-2.06-.94 2.06-2.06.94z\"/><path d=\"M17.41 7.96l-1.37-1.37c-.4-.4-.92-.59-1.43-.59-.52 0-1.04.2-1.43.59L10.3 9.45l-7.72 7.72c-.78.78-.78 2.05 0 2.83L4 21.41c.39.39.9.59 1.41.59.51 0 1.02-.2 1.41-.59l7.78-7.78 2.81-2.81c.8-.78.8-2.07 0-2.86zM5.41 20L4 18.59l7.72-7.72 1.47 1.35L5.41 20z\"/>\n",
              "  </svg>\n",
              "      </button>\n",
              "      \n",
              "  <style>\n",
              "    .colab-df-container {\n",
              "      display:flex;\n",
              "      flex-wrap:wrap;\n",
              "      gap: 12px;\n",
              "    }\n",
              "\n",
              "    .colab-df-convert {\n",
              "      background-color: #E8F0FE;\n",
              "      border: none;\n",
              "      border-radius: 50%;\n",
              "      cursor: pointer;\n",
              "      display: none;\n",
              "      fill: #1967D2;\n",
              "      height: 32px;\n",
              "      padding: 0 0 0 0;\n",
              "      width: 32px;\n",
              "    }\n",
              "\n",
              "    .colab-df-convert:hover {\n",
              "      background-color: #E2EBFA;\n",
              "      box-shadow: 0px 1px 2px rgba(60, 64, 67, 0.3), 0px 1px 3px 1px rgba(60, 64, 67, 0.15);\n",
              "      fill: #174EA6;\n",
              "    }\n",
              "\n",
              "    [theme=dark] .colab-df-convert {\n",
              "      background-color: #3B4455;\n",
              "      fill: #D2E3FC;\n",
              "    }\n",
              "\n",
              "    [theme=dark] .colab-df-convert:hover {\n",
              "      background-color: #434B5C;\n",
              "      box-shadow: 0px 1px 3px 1px rgba(0, 0, 0, 0.15);\n",
              "      filter: drop-shadow(0px 1px 2px rgba(0, 0, 0, 0.3));\n",
              "      fill: #FFFFFF;\n",
              "    }\n",
              "  </style>\n",
              "\n",
              "      <script>\n",
              "        const buttonEl =\n",
              "          document.querySelector('#df-2dd135cd-13ae-44d3-b954-3d5165536c2f button.colab-df-convert');\n",
              "        buttonEl.style.display =\n",
              "          google.colab.kernel.accessAllowed ? 'block' : 'none';\n",
              "\n",
              "        async function convertToInteractive(key) {\n",
              "          const element = document.querySelector('#df-2dd135cd-13ae-44d3-b954-3d5165536c2f');\n",
              "          const dataTable =\n",
              "            await google.colab.kernel.invokeFunction('convertToInteractive',\n",
              "                                                     [key], {});\n",
              "          if (!dataTable) return;\n",
              "\n",
              "          const docLinkHtml = 'Like what you see? Visit the ' +\n",
              "            '<a target=\"_blank\" href=https://colab.research.google.com/notebooks/data_table.ipynb>data table notebook</a>'\n",
              "            + ' to learn more about interactive tables.';\n",
              "          element.innerHTML = '';\n",
              "          dataTable['output_type'] = 'display_data';\n",
              "          await google.colab.output.renderOutput(dataTable, element);\n",
              "          const docLink = document.createElement('div');\n",
              "          docLink.innerHTML = docLinkHtml;\n",
              "          element.appendChild(docLink);\n",
              "        }\n",
              "      </script>\n",
              "    </div>\n",
              "  </div>\n",
              "  "
            ]
          },
          "metadata": {},
          "execution_count": 29
        }
      ]
    },
    {
      "cell_type": "markdown",
      "source": [
        "# MLP MODEL"
      ],
      "metadata": {
        "id": "bgeRiwcUEm_V"
      }
    },
    {
      "cell_type": "code",
      "source": [
        "df.info()"
      ],
      "metadata": {
        "colab": {
          "base_uri": "https://localhost:8080/"
        },
        "id": "qXyo4FAPEUdy",
        "outputId": "3f2935f9-1a13-4618-8cb8-5c5c7955ce0c"
      },
      "execution_count": null,
      "outputs": [
        {
          "output_type": "stream",
          "name": "stdout",
          "text": [
            "<class 'pandas.core.frame.DataFrame'>\n",
            "RangeIndex: 768 entries, 0 to 767\n",
            "Data columns (total 24 columns):\n",
            " #   Column                             Non-Null Count  Dtype  \n",
            "---  ------                             --------------  -----  \n",
            " 0   pregnancies                        768 non-null    float64\n",
            " 1   glucose                            768 non-null    float64\n",
            " 2   bloodpressure                      768 non-null    float64\n",
            " 3   skinthickness                      768 non-null    float64\n",
            " 4   insulin                            768 non-null    float64\n",
            " 5   bmi                                768 non-null    float64\n",
            " 6   diabetespedigreefunction           768 non-null    float64\n",
            " 7   age                                768 non-null    float64\n",
            " 8   outcome                            768 non-null    int64  \n",
            " 9   sex_cat                            768 non-null    int64  \n",
            " 10  glucose_cat                        768 non-null    int64  \n",
            " 11  insul_level                        768 non-null    int64  \n",
            " 12  gulucos_insulin                    768 non-null    float64\n",
            " 13  new_bmi_healthy                    768 non-null    uint8  \n",
            " 14  new_bmi_overweight                 768 non-null    uint8  \n",
            " 15  new_bmi_obese1                     768 non-null    uint8  \n",
            " 16  new_bmi_obese2                     768 non-null    uint8  \n",
            " 17  new_bmi_obese3                     768 non-null    uint8  \n",
            " 18  age_gul_cat_at_risk_mature         768 non-null    uint8  \n",
            " 19  age_gul_cat_normal_elder           768 non-null    uint8  \n",
            " 20  age_gul_cat_normal_mature          768 non-null    uint8  \n",
            " 21  age_insul_level_is_normal_mature   768 non-null    uint8  \n",
            " 22  age_insul_level_not_normal_elder   768 non-null    uint8  \n",
            " 23  age_insul_level_not_normal_mature  768 non-null    uint8  \n",
            "dtypes: float64(9), int64(4), uint8(11)\n",
            "memory usage: 86.4 KB\n"
          ]
        }
      ]
    },
    {
      "cell_type": "code",
      "source": [
        "X = df.drop('outcome',axis=1).values\n",
        "y = df['outcome'].values"
      ],
      "metadata": {
        "id": "PXQuLE4LEfPO"
      },
      "execution_count": null,
      "outputs": []
    },
    {
      "cell_type": "code",
      "source": [
        "X_train, X_test, y_train, y_test = train_test_split(X,y,test_size=0.2,random_state=101)"
      ],
      "metadata": {
        "id": "jwtXMGGME1DH"
      },
      "execution_count": null,
      "outputs": []
    },
    {
      "cell_type": "code",
      "source": [
        "# Now time to future scaling for numeric cols\n",
        "\n",
        "scaler = MinMaxScaler()\n",
        "\n",
        "X_train= scaler.fit_transform(X_train)\n",
        "X_test = scaler.transform(X_test)"
      ],
      "metadata": {
        "id": "dmEc4Ys3E9OW"
      },
      "execution_count": null,
      "outputs": []
    },
    {
      "cell_type": "code",
      "source": [
        "X_train.shape"
      ],
      "metadata": {
        "colab": {
          "base_uri": "https://localhost:8080/"
        },
        "id": "vVTkSdj5E_0y",
        "outputId": "6912bfb9-299b-46a6-a18e-06f8fb8b412d"
      },
      "execution_count": null,
      "outputs": [
        {
          "output_type": "execute_result",
          "data": {
            "text/plain": [
              "(614, 23)"
            ]
          },
          "metadata": {},
          "execution_count": 80
        }
      ]
    },
    {
      "cell_type": "code",
      "source": [
        "model = Sequential()\n",
        "\n",
        "# https://stats.stackexchange.com/questions/181/how-to-choose-the-number-of-hidden-layers-and-nodes-in-a-feedforward-neural-netw\n",
        "\n",
        "model.add(Dense(128, activation='relu'))\n",
        "model.add(Dropout(0.3))\n",
        "\n",
        "model.add(Dense(64, activation='relu'))\n",
        "model.add(Dropout(0.3))\n",
        "\n",
        "model.add(Dense(32, activation='relu'))\n",
        "model.add(Dropout(0.2))\n",
        "\n",
        "model.add(Dense(16, activation='relu'))\n",
        "model.add(Dropout(0.2))\n",
        "\n",
        "model.add(Dense(1,activation='sigmoid'))\n",
        "\n",
        "# class_weight = {0: 1, 1: 2}\n",
        "\n",
        "# For a binary classification problem\n",
        "model.compile(loss='binary_crossentropy', optimizer='adam',metrics=['accuracy'])"
      ],
      "metadata": {
        "id": "OPAg9CQkhUPb"
      },
      "execution_count": null,
      "outputs": []
    },
    {
      "cell_type": "code",
      "source": [
        "early_stop = EarlyStopping(monitor='val_loss', mode='min', verbose=1, patience=35)"
      ],
      "metadata": {
        "id": "_X3-rOkohWhg"
      },
      "execution_count": null,
      "outputs": []
    },
    {
      "cell_type": "code",
      "source": [
        "model.fit(x=X_train, \n",
        "          y=y_train, \n",
        "          batch_size=32,\n",
        "          epochs=400,\n",
        "          validation_data=(X_test, y_test), \n",
        "          verbose=1,\n",
        "          callbacks=[early_stop],\n",
        "          # class_weight=class_weight\n",
        "          )"
      ],
      "metadata": {
        "colab": {
          "base_uri": "https://localhost:8080/"
        },
        "id": "DAyzpcqqhaPM",
        "outputId": "1f4cdcf9-81ad-4816-d0b3-dea03163f1f0"
      },
      "execution_count": null,
      "outputs": [
        {
          "output_type": "stream",
          "name": "stdout",
          "text": [
            "Epoch 1/400\n",
            "20/20 [==============================] - 2s 19ms/step - loss: 0.6576 - accuracy: 0.6091 - val_loss: 0.5881 - val_accuracy: 0.6688\n",
            "Epoch 2/400\n",
            "20/20 [==============================] - 0s 6ms/step - loss: 0.5900 - accuracy: 0.6661 - val_loss: 0.4838 - val_accuracy: 0.7727\n",
            "Epoch 3/400\n",
            "20/20 [==============================] - 0s 6ms/step - loss: 0.4849 - accuracy: 0.7769 - val_loss: 0.3934 - val_accuracy: 0.8312\n",
            "Epoch 4/400\n",
            "20/20 [==============================] - 0s 7ms/step - loss: 0.4223 - accuracy: 0.8160 - val_loss: 0.3677 - val_accuracy: 0.8312\n",
            "Epoch 5/400\n",
            "20/20 [==============================] - 0s 4ms/step - loss: 0.4275 - accuracy: 0.8274 - val_loss: 0.3658 - val_accuracy: 0.8442\n",
            "Epoch 6/400\n",
            "20/20 [==============================] - 0s 4ms/step - loss: 0.4246 - accuracy: 0.8208 - val_loss: 0.3585 - val_accuracy: 0.8377\n",
            "Epoch 7/400\n",
            "20/20 [==============================] - 0s 4ms/step - loss: 0.4094 - accuracy: 0.8339 - val_loss: 0.3503 - val_accuracy: 0.8442\n",
            "Epoch 8/400\n",
            "20/20 [==============================] - 0s 4ms/step - loss: 0.4120 - accuracy: 0.8388 - val_loss: 0.3443 - val_accuracy: 0.8442\n",
            "Epoch 9/400\n",
            "20/20 [==============================] - 0s 4ms/step - loss: 0.4127 - accuracy: 0.8469 - val_loss: 0.3417 - val_accuracy: 0.8506\n",
            "Epoch 10/400\n",
            "20/20 [==============================] - 0s 4ms/step - loss: 0.4032 - accuracy: 0.8436 - val_loss: 0.3407 - val_accuracy: 0.8571\n",
            "Epoch 11/400\n",
            "20/20 [==============================] - 0s 4ms/step - loss: 0.4065 - accuracy: 0.8306 - val_loss: 0.3413 - val_accuracy: 0.8377\n",
            "Epoch 12/400\n",
            "20/20 [==============================] - 0s 5ms/step - loss: 0.3984 - accuracy: 0.8371 - val_loss: 0.3362 - val_accuracy: 0.8442\n",
            "Epoch 13/400\n",
            "20/20 [==============================] - 0s 4ms/step - loss: 0.4016 - accuracy: 0.8355 - val_loss: 0.3266 - val_accuracy: 0.8766\n",
            "Epoch 14/400\n",
            "20/20 [==============================] - 0s 4ms/step - loss: 0.3846 - accuracy: 0.8550 - val_loss: 0.3222 - val_accuracy: 0.8506\n",
            "Epoch 15/400\n",
            "20/20 [==============================] - 0s 4ms/step - loss: 0.3869 - accuracy: 0.8388 - val_loss: 0.3231 - val_accuracy: 0.8636\n",
            "Epoch 16/400\n",
            "20/20 [==============================] - 0s 4ms/step - loss: 0.3761 - accuracy: 0.8388 - val_loss: 0.3161 - val_accuracy: 0.8636\n",
            "Epoch 17/400\n",
            "20/20 [==============================] - 0s 4ms/step - loss: 0.3894 - accuracy: 0.8420 - val_loss: 0.3190 - val_accuracy: 0.8506\n",
            "Epoch 18/400\n",
            "20/20 [==============================] - 0s 4ms/step - loss: 0.4088 - accuracy: 0.8436 - val_loss: 0.3216 - val_accuracy: 0.8896\n",
            "Epoch 19/400\n",
            "20/20 [==============================] - 0s 4ms/step - loss: 0.3665 - accuracy: 0.8599 - val_loss: 0.3073 - val_accuracy: 0.8701\n",
            "Epoch 20/400\n",
            "20/20 [==============================] - 0s 4ms/step - loss: 0.3620 - accuracy: 0.8632 - val_loss: 0.3028 - val_accuracy: 0.8766\n",
            "Epoch 21/400\n",
            "20/20 [==============================] - 0s 4ms/step - loss: 0.3629 - accuracy: 0.8632 - val_loss: 0.3084 - val_accuracy: 0.8766\n",
            "Epoch 22/400\n",
            "20/20 [==============================] - 0s 4ms/step - loss: 0.3692 - accuracy: 0.8599 - val_loss: 0.3075 - val_accuracy: 0.8766\n",
            "Epoch 23/400\n",
            "20/20 [==============================] - 0s 4ms/step - loss: 0.3780 - accuracy: 0.8583 - val_loss: 0.3098 - val_accuracy: 0.8766\n",
            "Epoch 24/400\n",
            "20/20 [==============================] - 0s 4ms/step - loss: 0.3793 - accuracy: 0.8485 - val_loss: 0.3075 - val_accuracy: 0.8636\n",
            "Epoch 25/400\n",
            "20/20 [==============================] - 0s 4ms/step - loss: 0.3704 - accuracy: 0.8550 - val_loss: 0.3095 - val_accuracy: 0.8831\n",
            "Epoch 26/400\n",
            "20/20 [==============================] - 0s 4ms/step - loss: 0.3611 - accuracy: 0.8567 - val_loss: 0.3025 - val_accuracy: 0.8766\n",
            "Epoch 27/400\n",
            "20/20 [==============================] - 0s 5ms/step - loss: 0.3578 - accuracy: 0.8795 - val_loss: 0.3098 - val_accuracy: 0.8506\n",
            "Epoch 28/400\n",
            "20/20 [==============================] - 0s 4ms/step - loss: 0.3584 - accuracy: 0.8616 - val_loss: 0.2999 - val_accuracy: 0.8766\n",
            "Epoch 29/400\n",
            "20/20 [==============================] - 0s 4ms/step - loss: 0.3615 - accuracy: 0.8681 - val_loss: 0.3071 - val_accuracy: 0.8701\n",
            "Epoch 30/400\n",
            "20/20 [==============================] - 0s 4ms/step - loss: 0.3811 - accuracy: 0.8567 - val_loss: 0.3046 - val_accuracy: 0.8961\n",
            "Epoch 31/400\n",
            "20/20 [==============================] - 0s 5ms/step - loss: 0.3768 - accuracy: 0.8648 - val_loss: 0.2965 - val_accuracy: 0.8896\n",
            "Epoch 32/400\n",
            "20/20 [==============================] - 0s 4ms/step - loss: 0.3395 - accuracy: 0.8616 - val_loss: 0.3099 - val_accuracy: 0.8701\n",
            "Epoch 33/400\n",
            "20/20 [==============================] - 0s 4ms/step - loss: 0.3619 - accuracy: 0.8681 - val_loss: 0.2933 - val_accuracy: 0.8766\n",
            "Epoch 34/400\n",
            "20/20 [==============================] - 0s 5ms/step - loss: 0.3351 - accuracy: 0.8664 - val_loss: 0.2943 - val_accuracy: 0.8831\n",
            "Epoch 35/400\n",
            "20/20 [==============================] - 0s 4ms/step - loss: 0.3470 - accuracy: 0.8730 - val_loss: 0.2942 - val_accuracy: 0.8766\n",
            "Epoch 36/400\n",
            "20/20 [==============================] - 0s 4ms/step - loss: 0.3385 - accuracy: 0.8616 - val_loss: 0.2894 - val_accuracy: 0.8766\n",
            "Epoch 37/400\n",
            "20/20 [==============================] - 0s 4ms/step - loss: 0.3477 - accuracy: 0.8648 - val_loss: 0.2922 - val_accuracy: 0.8636\n",
            "Epoch 38/400\n",
            "20/20 [==============================] - 0s 4ms/step - loss: 0.3439 - accuracy: 0.8697 - val_loss: 0.2892 - val_accuracy: 0.8701\n",
            "Epoch 39/400\n",
            "20/20 [==============================] - 0s 4ms/step - loss: 0.3296 - accuracy: 0.8697 - val_loss: 0.2931 - val_accuracy: 0.8636\n",
            "Epoch 40/400\n",
            "20/20 [==============================] - 0s 4ms/step - loss: 0.3385 - accuracy: 0.8697 - val_loss: 0.2946 - val_accuracy: 0.8831\n",
            "Epoch 41/400\n",
            "20/20 [==============================] - 0s 4ms/step - loss: 0.3315 - accuracy: 0.8632 - val_loss: 0.3025 - val_accuracy: 0.8636\n",
            "Epoch 42/400\n",
            "20/20 [==============================] - 0s 4ms/step - loss: 0.3229 - accuracy: 0.8779 - val_loss: 0.2895 - val_accuracy: 0.8766\n",
            "Epoch 43/400\n",
            "20/20 [==============================] - 0s 5ms/step - loss: 0.3474 - accuracy: 0.8518 - val_loss: 0.2939 - val_accuracy: 0.8766\n",
            "Epoch 44/400\n",
            "20/20 [==============================] - 0s 4ms/step - loss: 0.3456 - accuracy: 0.8567 - val_loss: 0.2914 - val_accuracy: 0.8766\n",
            "Epoch 45/400\n",
            "20/20 [==============================] - 0s 4ms/step - loss: 0.3375 - accuracy: 0.8697 - val_loss: 0.2861 - val_accuracy: 0.8831\n",
            "Epoch 46/400\n",
            "20/20 [==============================] - 0s 5ms/step - loss: 0.3203 - accuracy: 0.8746 - val_loss: 0.2843 - val_accuracy: 0.8766\n",
            "Epoch 47/400\n",
            "20/20 [==============================] - 0s 4ms/step - loss: 0.3451 - accuracy: 0.8730 - val_loss: 0.2946 - val_accuracy: 0.8636\n",
            "Epoch 48/400\n",
            "20/20 [==============================] - 0s 5ms/step - loss: 0.3342 - accuracy: 0.8648 - val_loss: 0.2894 - val_accuracy: 0.8636\n",
            "Epoch 49/400\n",
            "20/20 [==============================] - 0s 4ms/step - loss: 0.3394 - accuracy: 0.8697 - val_loss: 0.2831 - val_accuracy: 0.8701\n",
            "Epoch 50/400\n",
            "20/20 [==============================] - 0s 4ms/step - loss: 0.3187 - accuracy: 0.8664 - val_loss: 0.2814 - val_accuracy: 0.8831\n",
            "Epoch 51/400\n",
            "20/20 [==============================] - 0s 4ms/step - loss: 0.3209 - accuracy: 0.8681 - val_loss: 0.2823 - val_accuracy: 0.8831\n",
            "Epoch 52/400\n",
            "20/20 [==============================] - 0s 4ms/step - loss: 0.3346 - accuracy: 0.8713 - val_loss: 0.2885 - val_accuracy: 0.8701\n",
            "Epoch 53/400\n",
            "20/20 [==============================] - 0s 4ms/step - loss: 0.3241 - accuracy: 0.8827 - val_loss: 0.2890 - val_accuracy: 0.8896\n",
            "Epoch 54/400\n",
            "20/20 [==============================] - 0s 4ms/step - loss: 0.3232 - accuracy: 0.8567 - val_loss: 0.2853 - val_accuracy: 0.8766\n",
            "Epoch 55/400\n",
            "20/20 [==============================] - 0s 4ms/step - loss: 0.3208 - accuracy: 0.8664 - val_loss: 0.2820 - val_accuracy: 0.8961\n",
            "Epoch 56/400\n",
            "20/20 [==============================] - 0s 4ms/step - loss: 0.3187 - accuracy: 0.8746 - val_loss: 0.2868 - val_accuracy: 0.8701\n",
            "Epoch 57/400\n",
            "20/20 [==============================] - 0s 4ms/step - loss: 0.3374 - accuracy: 0.8713 - val_loss: 0.2803 - val_accuracy: 0.8896\n",
            "Epoch 58/400\n",
            "20/20 [==============================] - 0s 4ms/step - loss: 0.3280 - accuracy: 0.8762 - val_loss: 0.2816 - val_accuracy: 0.8766\n",
            "Epoch 59/400\n",
            "20/20 [==============================] - 0s 4ms/step - loss: 0.3306 - accuracy: 0.8730 - val_loss: 0.2798 - val_accuracy: 0.8701\n",
            "Epoch 60/400\n",
            "20/20 [==============================] - 0s 4ms/step - loss: 0.3336 - accuracy: 0.8746 - val_loss: 0.2896 - val_accuracy: 0.8831\n",
            "Epoch 61/400\n",
            "20/20 [==============================] - 0s 4ms/step - loss: 0.3124 - accuracy: 0.8746 - val_loss: 0.2798 - val_accuracy: 0.8766\n",
            "Epoch 62/400\n",
            "20/20 [==============================] - 0s 5ms/step - loss: 0.3271 - accuracy: 0.8681 - val_loss: 0.2796 - val_accuracy: 0.8636\n",
            "Epoch 63/400\n",
            "20/20 [==============================] - 0s 4ms/step - loss: 0.3132 - accuracy: 0.8713 - val_loss: 0.2886 - val_accuracy: 0.8571\n",
            "Epoch 64/400\n",
            "20/20 [==============================] - 0s 4ms/step - loss: 0.3171 - accuracy: 0.8779 - val_loss: 0.2858 - val_accuracy: 0.8701\n",
            "Epoch 65/400\n",
            "20/20 [==============================] - 0s 4ms/step - loss: 0.3005 - accuracy: 0.8795 - val_loss: 0.2876 - val_accuracy: 0.8766\n",
            "Epoch 66/400\n",
            "20/20 [==============================] - 0s 4ms/step - loss: 0.3095 - accuracy: 0.8844 - val_loss: 0.2875 - val_accuracy: 0.8896\n",
            "Epoch 67/400\n",
            "20/20 [==============================] - 0s 4ms/step - loss: 0.3323 - accuracy: 0.8681 - val_loss: 0.3068 - val_accuracy: 0.8701\n",
            "Epoch 68/400\n",
            "20/20 [==============================] - 0s 4ms/step - loss: 0.3145 - accuracy: 0.8811 - val_loss: 0.2807 - val_accuracy: 0.9026\n",
            "Epoch 69/400\n",
            "20/20 [==============================] - 0s 6ms/step - loss: 0.3120 - accuracy: 0.8632 - val_loss: 0.2838 - val_accuracy: 0.8701\n",
            "Epoch 70/400\n",
            "20/20 [==============================] - 0s 4ms/step - loss: 0.3276 - accuracy: 0.8697 - val_loss: 0.2837 - val_accuracy: 0.8701\n",
            "Epoch 71/400\n",
            "20/20 [==============================] - 0s 4ms/step - loss: 0.3028 - accuracy: 0.8844 - val_loss: 0.2828 - val_accuracy: 0.8766\n",
            "Epoch 72/400\n",
            "20/20 [==============================] - 0s 4ms/step - loss: 0.3180 - accuracy: 0.8958 - val_loss: 0.2826 - val_accuracy: 0.8831\n",
            "Epoch 73/400\n",
            "20/20 [==============================] - 0s 4ms/step - loss: 0.3079 - accuracy: 0.8844 - val_loss: 0.2842 - val_accuracy: 0.8636\n",
            "Epoch 74/400\n",
            "20/20 [==============================] - 0s 4ms/step - loss: 0.3009 - accuracy: 0.8827 - val_loss: 0.2883 - val_accuracy: 0.8766\n",
            "Epoch 75/400\n",
            "20/20 [==============================] - 0s 5ms/step - loss: 0.3215 - accuracy: 0.8779 - val_loss: 0.2815 - val_accuracy: 0.8701\n",
            "Epoch 76/400\n",
            "20/20 [==============================] - 0s 4ms/step - loss: 0.3099 - accuracy: 0.8746 - val_loss: 0.2824 - val_accuracy: 0.8701\n",
            "Epoch 77/400\n",
            "20/20 [==============================] - 0s 4ms/step - loss: 0.3207 - accuracy: 0.8730 - val_loss: 0.2918 - val_accuracy: 0.8571\n",
            "Epoch 78/400\n",
            "20/20 [==============================] - 0s 4ms/step - loss: 0.3056 - accuracy: 0.8795 - val_loss: 0.2833 - val_accuracy: 0.8701\n",
            "Epoch 79/400\n",
            "20/20 [==============================] - 0s 5ms/step - loss: 0.3209 - accuracy: 0.8746 - val_loss: 0.2838 - val_accuracy: 0.8701\n",
            "Epoch 80/400\n",
            "20/20 [==============================] - 0s 4ms/step - loss: 0.2980 - accuracy: 0.8697 - val_loss: 0.2749 - val_accuracy: 0.8701\n",
            "Epoch 81/400\n",
            "20/20 [==============================] - 0s 4ms/step - loss: 0.3190 - accuracy: 0.8730 - val_loss: 0.2805 - val_accuracy: 0.8766\n",
            "Epoch 82/400\n",
            "20/20 [==============================] - 0s 4ms/step - loss: 0.3157 - accuracy: 0.8795 - val_loss: 0.2745 - val_accuracy: 0.8831\n",
            "Epoch 83/400\n",
            "20/20 [==============================] - 0s 4ms/step - loss: 0.3057 - accuracy: 0.8844 - val_loss: 0.2781 - val_accuracy: 0.8701\n",
            "Epoch 84/400\n",
            "20/20 [==============================] - 0s 4ms/step - loss: 0.3006 - accuracy: 0.8876 - val_loss: 0.2825 - val_accuracy: 0.8636\n",
            "Epoch 85/400\n",
            "20/20 [==============================] - 0s 4ms/step - loss: 0.3027 - accuracy: 0.8730 - val_loss: 0.2770 - val_accuracy: 0.8701\n",
            "Epoch 86/400\n",
            "20/20 [==============================] - 0s 4ms/step - loss: 0.3008 - accuracy: 0.8958 - val_loss: 0.2815 - val_accuracy: 0.8766\n",
            "Epoch 87/400\n",
            "20/20 [==============================] - 0s 4ms/step - loss: 0.2819 - accuracy: 0.8941 - val_loss: 0.2765 - val_accuracy: 0.8766\n",
            "Epoch 88/400\n",
            "20/20 [==============================] - 0s 4ms/step - loss: 0.2980 - accuracy: 0.8746 - val_loss: 0.2736 - val_accuracy: 0.8831\n",
            "Epoch 89/400\n",
            "20/20 [==============================] - 0s 4ms/step - loss: 0.2665 - accuracy: 0.8990 - val_loss: 0.3031 - val_accuracy: 0.8636\n",
            "Epoch 90/400\n",
            "20/20 [==============================] - 0s 5ms/step - loss: 0.2965 - accuracy: 0.8893 - val_loss: 0.2744 - val_accuracy: 0.8831\n",
            "Epoch 91/400\n",
            "20/20 [==============================] - 0s 4ms/step - loss: 0.2903 - accuracy: 0.8958 - val_loss: 0.2855 - val_accuracy: 0.8766\n",
            "Epoch 92/400\n",
            "20/20 [==============================] - 0s 5ms/step - loss: 0.2932 - accuracy: 0.8876 - val_loss: 0.2776 - val_accuracy: 0.8896\n",
            "Epoch 93/400\n",
            "20/20 [==============================] - 0s 4ms/step - loss: 0.2840 - accuracy: 0.8876 - val_loss: 0.2814 - val_accuracy: 0.8831\n",
            "Epoch 94/400\n",
            "20/20 [==============================] - 0s 5ms/step - loss: 0.3110 - accuracy: 0.8762 - val_loss: 0.2792 - val_accuracy: 0.8766\n",
            "Epoch 95/400\n",
            "20/20 [==============================] - 0s 4ms/step - loss: 0.2900 - accuracy: 0.8909 - val_loss: 0.2834 - val_accuracy: 0.8701\n",
            "Epoch 96/400\n",
            "20/20 [==============================] - 0s 5ms/step - loss: 0.2876 - accuracy: 0.8844 - val_loss: 0.2877 - val_accuracy: 0.8766\n",
            "Epoch 97/400\n",
            "20/20 [==============================] - 0s 5ms/step - loss: 0.2826 - accuracy: 0.8909 - val_loss: 0.2794 - val_accuracy: 0.8831\n",
            "Epoch 98/400\n",
            "20/20 [==============================] - 0s 5ms/step - loss: 0.2857 - accuracy: 0.8860 - val_loss: 0.2791 - val_accuracy: 0.8831\n",
            "Epoch 99/400\n",
            "20/20 [==============================] - 0s 4ms/step - loss: 0.2779 - accuracy: 0.8990 - val_loss: 0.3045 - val_accuracy: 0.8571\n",
            "Epoch 100/400\n",
            "20/20 [==============================] - 0s 5ms/step - loss: 0.3191 - accuracy: 0.8616 - val_loss: 0.2863 - val_accuracy: 0.8831\n",
            "Epoch 101/400\n",
            "20/20 [==============================] - 0s 4ms/step - loss: 0.2922 - accuracy: 0.8925 - val_loss: 0.2910 - val_accuracy: 0.8766\n",
            "Epoch 102/400\n",
            "20/20 [==============================] - 0s 4ms/step - loss: 0.2989 - accuracy: 0.8697 - val_loss: 0.2693 - val_accuracy: 0.8961\n",
            "Epoch 103/400\n",
            "20/20 [==============================] - 0s 4ms/step - loss: 0.2753 - accuracy: 0.8893 - val_loss: 0.2944 - val_accuracy: 0.8571\n",
            "Epoch 104/400\n",
            "20/20 [==============================] - 0s 5ms/step - loss: 0.2805 - accuracy: 0.8941 - val_loss: 0.2750 - val_accuracy: 0.8831\n",
            "Epoch 105/400\n",
            "20/20 [==============================] - 0s 5ms/step - loss: 0.2608 - accuracy: 0.8974 - val_loss: 0.2835 - val_accuracy: 0.8831\n",
            "Epoch 106/400\n",
            "20/20 [==============================] - 0s 4ms/step - loss: 0.2763 - accuracy: 0.8990 - val_loss: 0.2853 - val_accuracy: 0.8701\n",
            "Epoch 107/400\n",
            "20/20 [==============================] - 0s 4ms/step - loss: 0.2706 - accuracy: 0.8974 - val_loss: 0.2834 - val_accuracy: 0.8766\n",
            "Epoch 108/400\n",
            "20/20 [==============================] - 0s 4ms/step - loss: 0.2817 - accuracy: 0.8925 - val_loss: 0.2911 - val_accuracy: 0.8766\n",
            "Epoch 109/400\n",
            "20/20 [==============================] - 0s 4ms/step - loss: 0.2660 - accuracy: 0.9072 - val_loss: 0.2847 - val_accuracy: 0.9026\n",
            "Epoch 110/400\n",
            "20/20 [==============================] - 0s 4ms/step - loss: 0.2692 - accuracy: 0.9023 - val_loss: 0.2923 - val_accuracy: 0.8896\n",
            "Epoch 111/400\n",
            "20/20 [==============================] - 0s 4ms/step - loss: 0.2519 - accuracy: 0.9088 - val_loss: 0.3048 - val_accuracy: 0.8571\n",
            "Epoch 112/400\n",
            "20/20 [==============================] - 0s 4ms/step - loss: 0.2978 - accuracy: 0.8811 - val_loss: 0.2909 - val_accuracy: 0.8766\n",
            "Epoch 113/400\n",
            "20/20 [==============================] - 0s 4ms/step - loss: 0.2775 - accuracy: 0.8990 - val_loss: 0.2845 - val_accuracy: 0.8896\n",
            "Epoch 114/400\n",
            "20/20 [==============================] - 0s 4ms/step - loss: 0.2846 - accuracy: 0.8893 - val_loss: 0.2871 - val_accuracy: 0.8961\n",
            "Epoch 115/400\n",
            "20/20 [==============================] - 0s 4ms/step - loss: 0.2958 - accuracy: 0.8860 - val_loss: 0.2852 - val_accuracy: 0.8831\n",
            "Epoch 116/400\n",
            "20/20 [==============================] - 0s 6ms/step - loss: 0.2730 - accuracy: 0.8909 - val_loss: 0.2810 - val_accuracy: 0.8961\n",
            "Epoch 117/400\n",
            "20/20 [==============================] - 0s 6ms/step - loss: 0.2677 - accuracy: 0.8925 - val_loss: 0.3017 - val_accuracy: 0.8636\n",
            "Epoch 118/400\n",
            "20/20 [==============================] - 0s 6ms/step - loss: 0.2778 - accuracy: 0.8941 - val_loss: 0.2917 - val_accuracy: 0.8961\n",
            "Epoch 119/400\n",
            "20/20 [==============================] - 0s 6ms/step - loss: 0.2611 - accuracy: 0.8958 - val_loss: 0.2897 - val_accuracy: 0.8896\n",
            "Epoch 120/400\n",
            "20/20 [==============================] - 0s 6ms/step - loss: 0.2848 - accuracy: 0.8811 - val_loss: 0.2896 - val_accuracy: 0.8701\n",
            "Epoch 121/400\n",
            "20/20 [==============================] - 0s 6ms/step - loss: 0.2546 - accuracy: 0.9104 - val_loss: 0.2888 - val_accuracy: 0.8831\n",
            "Epoch 122/400\n",
            "20/20 [==============================] - 0s 6ms/step - loss: 0.2553 - accuracy: 0.8909 - val_loss: 0.2872 - val_accuracy: 0.8896\n",
            "Epoch 123/400\n",
            "20/20 [==============================] - 0s 6ms/step - loss: 0.2466 - accuracy: 0.9039 - val_loss: 0.2818 - val_accuracy: 0.8831\n",
            "Epoch 124/400\n",
            "20/20 [==============================] - 0s 6ms/step - loss: 0.2591 - accuracy: 0.9055 - val_loss: 0.3004 - val_accuracy: 0.8636\n",
            "Epoch 125/400\n",
            "20/20 [==============================] - 0s 6ms/step - loss: 0.2868 - accuracy: 0.8860 - val_loss: 0.2851 - val_accuracy: 0.8766\n",
            "Epoch 126/400\n",
            "20/20 [==============================] - 0s 6ms/step - loss: 0.2701 - accuracy: 0.8893 - val_loss: 0.2759 - val_accuracy: 0.8896\n",
            "Epoch 127/400\n",
            "20/20 [==============================] - 0s 6ms/step - loss: 0.2760 - accuracy: 0.8844 - val_loss: 0.2843 - val_accuracy: 0.8636\n",
            "Epoch 128/400\n",
            "20/20 [==============================] - 0s 6ms/step - loss: 0.2604 - accuracy: 0.8958 - val_loss: 0.2911 - val_accuracy: 0.8766\n",
            "Epoch 129/400\n",
            "20/20 [==============================] - 0s 6ms/step - loss: 0.2477 - accuracy: 0.9023 - val_loss: 0.2885 - val_accuracy: 0.8831\n",
            "Epoch 130/400\n",
            "20/20 [==============================] - 0s 6ms/step - loss: 0.2655 - accuracy: 0.8990 - val_loss: 0.2832 - val_accuracy: 0.8766\n",
            "Epoch 131/400\n",
            "20/20 [==============================] - 0s 6ms/step - loss: 0.2502 - accuracy: 0.9023 - val_loss: 0.2816 - val_accuracy: 0.9026\n",
            "Epoch 132/400\n",
            "20/20 [==============================] - 0s 6ms/step - loss: 0.2608 - accuracy: 0.8990 - val_loss: 0.2877 - val_accuracy: 0.8831\n",
            "Epoch 133/400\n",
            "20/20 [==============================] - 0s 5ms/step - loss: 0.2583 - accuracy: 0.8925 - val_loss: 0.2710 - val_accuracy: 0.9026\n",
            "Epoch 134/400\n",
            "20/20 [==============================] - 0s 6ms/step - loss: 0.2500 - accuracy: 0.9007 - val_loss: 0.2765 - val_accuracy: 0.8961\n",
            "Epoch 135/400\n",
            "20/20 [==============================] - 0s 6ms/step - loss: 0.2538 - accuracy: 0.8990 - val_loss: 0.2843 - val_accuracy: 0.8766\n",
            "Epoch 136/400\n",
            "20/20 [==============================] - 0s 6ms/step - loss: 0.2644 - accuracy: 0.8925 - val_loss: 0.2801 - val_accuracy: 0.8896\n",
            "Epoch 137/400\n",
            "20/20 [==============================] - 0s 6ms/step - loss: 0.2487 - accuracy: 0.9121 - val_loss: 0.2816 - val_accuracy: 0.9091\n",
            "Epoch 137: early stopping\n"
          ]
        },
        {
          "output_type": "execute_result",
          "data": {
            "text/plain": [
              "<keras.callbacks.History at 0x7f9f71f83d00>"
            ]
          },
          "metadata": {},
          "execution_count": 118
        }
      ]
    },
    {
      "cell_type": "code",
      "source": [
        "model_loss = pd.DataFrame(model.history.history)[['loss','val_loss']]\n",
        "model_loss.plot()"
      ],
      "metadata": {
        "colab": {
          "base_uri": "https://localhost:8080/",
          "height": 448
        },
        "id": "c2MJ2sjThf00",
        "outputId": "43c96dbe-1ec1-4854-a7cd-a52ebb921d3b"
      },
      "execution_count": null,
      "outputs": [
        {
          "output_type": "execute_result",
          "data": {
            "text/plain": [
              "<Axes: >"
            ]
          },
          "metadata": {},
          "execution_count": 119
        },
        {
          "output_type": "display_data",
          "data": {
            "text/plain": [
              "<Figure size 640x480 with 1 Axes>"
            ],
            "image/png": "[encoded data removed]"
          },
          "metadata": {}
        }
      ]
    },
    {
      "cell_type": "markdown",
      "source": [
        "# MODEL EVALUATION"
      ],
      "metadata": {
        "id": "2cqukc7UnOxs"
      }
    },
    {
      "cell_type": "code",
      "source": [
        "predictions = (model.predict(X_test) > 0.5)*1"
      ],
      "metadata": {
        "colab": {
          "base_uri": "https://localhost:8080/"
        },
        "id": "1qwON1WRml_0",
        "outputId": "da1dcec2-3ff9-49f7-e5a9-36ab8e58b752"
      },
      "execution_count": null,
      "outputs": [
        {
          "output_type": "stream",
          "name": "stdout",
          "text": [
            "5/5 [==============================] - 0s 3ms/step\n"
          ]
        }
      ]
    },
    {
      "cell_type": "code",
      "source": [
        "print(classification_report(y_test,predictions))"
      ],
      "metadata": {
        "colab": {
          "base_uri": "https://localhost:8080/"
        },
        "id": "6gbACASnmpcG",
        "outputId": "b74b833b-cddc-4e7c-8f04-053e817a5850"
      },
      "execution_count": null,
      "outputs": [
        {
          "output_type": "stream",
          "name": "stdout",
          "text": [
            "              precision    recall  f1-score   support\n",
            "\n",
            "           0       0.94      0.92      0.93       103\n",
            "           1       0.85      0.88      0.87        51\n",
            "\n",
            "    accuracy                           0.91       154\n",
            "   macro avg       0.89      0.90      0.90       154\n",
            "weighted avg       0.91      0.91      0.91       154\n",
            "\n"
          ]
        }
      ]
    },
    {
      "cell_type": "code",
      "source": [
        "print(confusion_matrix(y_test,predictions))"
      ],
      "metadata": {
        "colab": {
          "base_uri": "https://localhost:8080/"
        },
        "id": "hWQZrJzWm0dD",
        "outputId": "c72f18f5-8f82-4543-a91e-820c99a85277"
      },
      "execution_count": null,
      "outputs": [
        {
          "output_type": "stream",
          "name": "stdout",
          "text": [
            "[[95  8]\n",
            " [ 6 45]]\n"
          ]
        }
      ]
    },
    {
      "cell_type": "code",
      "source": [
        "y_test_pred_probs = model.predict(X_test) \n",
        "\n",
        "FPR, TPR, _ = roc_curve(y_test, y_test_pred_probs)\n",
        "\n",
        "plt.plot(FPR, TPR)\n",
        "plt.plot([0,1],[0,1],'--', color='black') #diagonal line\n",
        "plt.title('ROC Curve')\n",
        "plt.xlabel('False Positive Rate')\n",
        "plt.ylabel('True Positive Rate')"
      ],
      "metadata": {
        "colab": {
          "base_uri": "https://localhost:8080/",
          "height": 508
        },
        "id": "Ru2oZtedm3yl",
        "outputId": "263b6a7a-0168-4e34-d911-dfed70bc89a9"
      },
      "execution_count": null,
      "outputs": [
        {
          "output_type": "stream",
          "name": "stdout",
          "text": [
            "5/5 [==============================] - 0s 4ms/step\n"
          ]
        },
        {
          "output_type": "execute_result",
          "data": {
            "text/plain": [
              "Text(0, 0.5, 'True Positive Rate')"
            ]
          },
          "metadata": {},
          "execution_count": 123
        },
        {
          "output_type": "display_data",
          "data": {
            "text/plain": [
              "<Figure size 640x480 with 1 Axes>"
            ],
            "image/png": "[encoded data removed]"
          },
          "metadata": {}
        }
      ]
    }
  ]
}